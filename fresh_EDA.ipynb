{
 "cells": [
  {
   "cell_type": "code",
   "execution_count": 1,
   "metadata": {},
   "outputs": [
    {
     "data": {
      "text/html": [
       "<div>\n",
       "<style scoped>\n",
       "    .dataframe tbody tr th:only-of-type {\n",
       "        vertical-align: middle;\n",
       "    }\n",
       "\n",
       "    .dataframe tbody tr th {\n",
       "        vertical-align: top;\n",
       "    }\n",
       "\n",
       "    .dataframe thead th {\n",
       "        text-align: right;\n",
       "    }\n",
       "</style>\n",
       "<table border=\"1\" class=\"dataframe\">\n",
       "  <thead>\n",
       "    <tr style=\"text-align: right;\">\n",
       "      <th></th>\n",
       "      <th>4.982649999999999864e+02</th>\n",
       "      <th>5.010860000000000127e+02</th>\n",
       "      <th>5.039069999999999823e+02</th>\n",
       "      <th>5.067259999999999991e+02</th>\n",
       "      <th>5.095439999999999827e+02</th>\n",
       "      <th>5.123619999999999663e+02</th>\n",
       "      <th>5.151789999999999736e+02</th>\n",
       "      <th>5.179940000000000282e+02</th>\n",
       "      <th>5.208089999999999691e+02</th>\n",
       "      <th>5.236230000000000473e+02</th>\n",
       "      <th>...</th>\n",
       "      <th>1.778170000000000073e+03</th>\n",
       "      <th>1.780589999999999918e+03</th>\n",
       "      <th>1.783000000000000000e+03</th>\n",
       "      <th>1.785420000000000073e+03</th>\n",
       "      <th>1.787829999999999927e+03</th>\n",
       "      <th>1.790250000000000000e+03</th>\n",
       "      <th>1.792660000000000082e+03</th>\n",
       "      <th>1.795069999999999936e+03</th>\n",
       "      <th>1.797480000000000018e+03</th>\n",
       "      <th>1.799900000000000091e+03</th>\n",
       "    </tr>\n",
       "  </thead>\n",
       "  <tbody>\n",
       "    <tr>\n",
       "      <th>0</th>\n",
       "      <td>7.870000e-07</td>\n",
       "      <td>0.066955</td>\n",
       "      <td>5.071800e-03</td>\n",
       "      <td>0.020617</td>\n",
       "      <td>0.010468</td>\n",
       "      <td>0.013307</td>\n",
       "      <td>0.042037</td>\n",
       "      <td>0.057356</td>\n",
       "      <td>0.008097</td>\n",
       "      <td>0.049136</td>\n",
       "      <td>...</td>\n",
       "      <td>0.038622</td>\n",
       "      <td>0.038629</td>\n",
       "      <td>0.038639</td>\n",
       "      <td>0.064431</td>\n",
       "      <td>0.012879</td>\n",
       "      <td>7.870000e-07</td>\n",
       "      <td>0.064418</td>\n",
       "      <td>0.077272</td>\n",
       "      <td>0.025672</td>\n",
       "      <td>0.038529</td>\n",
       "    </tr>\n",
       "    <tr>\n",
       "      <th>1</th>\n",
       "      <td>1.349200e-01</td>\n",
       "      <td>0.142860</td>\n",
       "      <td>1.031700e-01</td>\n",
       "      <td>0.103170</td>\n",
       "      <td>0.087302</td>\n",
       "      <td>0.103170</td>\n",
       "      <td>0.103170</td>\n",
       "      <td>0.087302</td>\n",
       "      <td>0.111110</td>\n",
       "      <td>0.079365</td>\n",
       "      <td>...</td>\n",
       "      <td>0.031746</td>\n",
       "      <td>0.015873</td>\n",
       "      <td>0.031746</td>\n",
       "      <td>0.031746</td>\n",
       "      <td>0.031746</td>\n",
       "      <td>1.587300e-02</td>\n",
       "      <td>0.023810</td>\n",
       "      <td>0.031746</td>\n",
       "      <td>0.039683</td>\n",
       "      <td>0.023810</td>\n",
       "    </tr>\n",
       "    <tr>\n",
       "      <th>2</th>\n",
       "      <td>7.240000e-07</td>\n",
       "      <td>0.044917</td>\n",
       "      <td>7.240000e-07</td>\n",
       "      <td>0.013614</td>\n",
       "      <td>0.026990</td>\n",
       "      <td>0.016517</td>\n",
       "      <td>0.029796</td>\n",
       "      <td>0.054960</td>\n",
       "      <td>0.044535</td>\n",
       "      <td>0.045996</td>\n",
       "      <td>...</td>\n",
       "      <td>0.018942</td>\n",
       "      <td>0.030949</td>\n",
       "      <td>0.031089</td>\n",
       "      <td>0.031230</td>\n",
       "      <td>0.031373</td>\n",
       "      <td>1.964800e-02</td>\n",
       "      <td>0.043530</td>\n",
       "      <td>0.043677</td>\n",
       "      <td>0.031958</td>\n",
       "      <td>0.032108</td>\n",
       "    </tr>\n",
       "    <tr>\n",
       "      <th>3</th>\n",
       "      <td>1.212100e-01</td>\n",
       "      <td>0.121210</td>\n",
       "      <td>1.313100e-01</td>\n",
       "      <td>0.121210</td>\n",
       "      <td>0.090909</td>\n",
       "      <td>0.111110</td>\n",
       "      <td>0.080808</td>\n",
       "      <td>0.101010</td>\n",
       "      <td>0.141410</td>\n",
       "      <td>0.101010</td>\n",
       "      <td>...</td>\n",
       "      <td>0.020202</td>\n",
       "      <td>0.040404</td>\n",
       "      <td>0.040404</td>\n",
       "      <td>0.040404</td>\n",
       "      <td>0.030303</td>\n",
       "      <td>3.030300e-02</td>\n",
       "      <td>0.040404</td>\n",
       "      <td>0.020202</td>\n",
       "      <td>0.010101</td>\n",
       "      <td>0.030303</td>\n",
       "    </tr>\n",
       "    <tr>\n",
       "      <th>4</th>\n",
       "      <td>1.078400e-01</td>\n",
       "      <td>0.117650</td>\n",
       "      <td>1.078400e-01</td>\n",
       "      <td>0.058824</td>\n",
       "      <td>0.107840</td>\n",
       "      <td>0.117650</td>\n",
       "      <td>0.117650</td>\n",
       "      <td>0.098039</td>\n",
       "      <td>0.117650</td>\n",
       "      <td>0.107840</td>\n",
       "      <td>...</td>\n",
       "      <td>0.019608</td>\n",
       "      <td>0.019608</td>\n",
       "      <td>0.009804</td>\n",
       "      <td>0.039216</td>\n",
       "      <td>0.019608</td>\n",
       "      <td>3.921600e-02</td>\n",
       "      <td>0.029412</td>\n",
       "      <td>0.029412</td>\n",
       "      <td>0.049020</td>\n",
       "      <td>0.049020</td>\n",
       "    </tr>\n",
       "  </tbody>\n",
       "</table>\n",
       "<p>5 rows × 500 columns</p>\n",
       "</div>"
      ],
      "text/plain": [
       "   4.982649999999999864e+02  5.010860000000000127e+02  \\\n",
       "0              7.870000e-07                  0.066955   \n",
       "1              1.349200e-01                  0.142860   \n",
       "2              7.240000e-07                  0.044917   \n",
       "3              1.212100e-01                  0.121210   \n",
       "4              1.078400e-01                  0.117650   \n",
       "\n",
       "   5.039069999999999823e+02  5.067259999999999991e+02  \\\n",
       "0              5.071800e-03                  0.020617   \n",
       "1              1.031700e-01                  0.103170   \n",
       "2              7.240000e-07                  0.013614   \n",
       "3              1.313100e-01                  0.121210   \n",
       "4              1.078400e-01                  0.058824   \n",
       "\n",
       "   5.095439999999999827e+02  5.123619999999999663e+02  \\\n",
       "0                  0.010468                  0.013307   \n",
       "1                  0.087302                  0.103170   \n",
       "2                  0.026990                  0.016517   \n",
       "3                  0.090909                  0.111110   \n",
       "4                  0.107840                  0.117650   \n",
       "\n",
       "   5.151789999999999736e+02  5.179940000000000282e+02  \\\n",
       "0                  0.042037                  0.057356   \n",
       "1                  0.103170                  0.087302   \n",
       "2                  0.029796                  0.054960   \n",
       "3                  0.080808                  0.101010   \n",
       "4                  0.117650                  0.098039   \n",
       "\n",
       "   5.208089999999999691e+02  5.236230000000000473e+02  ...  \\\n",
       "0                  0.008097                  0.049136  ...   \n",
       "1                  0.111110                  0.079365  ...   \n",
       "2                  0.044535                  0.045996  ...   \n",
       "3                  0.141410                  0.101010  ...   \n",
       "4                  0.117650                  0.107840  ...   \n",
       "\n",
       "   1.778170000000000073e+03  1.780589999999999918e+03  \\\n",
       "0                  0.038622                  0.038629   \n",
       "1                  0.031746                  0.015873   \n",
       "2                  0.018942                  0.030949   \n",
       "3                  0.020202                  0.040404   \n",
       "4                  0.019608                  0.019608   \n",
       "\n",
       "   1.783000000000000000e+03  1.785420000000000073e+03  \\\n",
       "0                  0.038639                  0.064431   \n",
       "1                  0.031746                  0.031746   \n",
       "2                  0.031089                  0.031230   \n",
       "3                  0.040404                  0.040404   \n",
       "4                  0.009804                  0.039216   \n",
       "\n",
       "   1.787829999999999927e+03  1.790250000000000000e+03  \\\n",
       "0                  0.012879              7.870000e-07   \n",
       "1                  0.031746              1.587300e-02   \n",
       "2                  0.031373              1.964800e-02   \n",
       "3                  0.030303              3.030300e-02   \n",
       "4                  0.019608              3.921600e-02   \n",
       "\n",
       "   1.792660000000000082e+03  1.795069999999999936e+03  \\\n",
       "0                  0.064418                  0.077272   \n",
       "1                  0.023810                  0.031746   \n",
       "2                  0.043530                  0.043677   \n",
       "3                  0.040404                  0.020202   \n",
       "4                  0.029412                  0.029412   \n",
       "\n",
       "   1.797480000000000018e+03  1.799900000000000091e+03  \n",
       "0                  0.025672                  0.038529  \n",
       "1                  0.039683                  0.023810  \n",
       "2                  0.031958                  0.032108  \n",
       "3                  0.010101                  0.030303  \n",
       "4                  0.049020                  0.049020  \n",
       "\n",
       "[5 rows x 500 columns]"
      ]
     },
     "execution_count": 1,
     "metadata": {},
     "output_type": "execute_result"
    }
   ],
   "source": [
    "import pandas as pd\n",
    "\n",
    "file_path = 'Project datasets/Sample files/train_inputs_50_with_shifts.csv'\n",
    "df = pd.read_csv(file_path)\n",
    "df.head()"
   ]
  },
  {
   "cell_type": "code",
   "execution_count": 3,
   "metadata": {},
   "outputs": [
    {
     "data": {
      "image/png": "[encoded data removed]",
      "text/plain": [
       "<Figure size 1200x600 with 1 Axes>"
      ]
     },
     "metadata": {},
     "output_type": "display_data"
    }
   ],
   "source": [
    "import matplotlib.pyplot as plt\n",
    "\n",
    "# Clean the column names\n",
    "df.columns = [f'wavenumber_{i}' for i in range(df.shape[1])]\n",
    "\n",
    "# Plotting the spectra for a few samples (assuming first half columns are low SNR and second half are high SNR)\n",
    "plt.figure(figsize=(12, 6))\n",
    "\n",
    "# Sample a few rows for visualization\n",
    "sample_indices = [0, 1, 2]  # you can choose other indices or more indices\n",
    "for idx in sample_indices:\n",
    "    plt.plot(df.columns, df.iloc[idx], label=f'Sample {idx}')\n",
    "\n",
    "plt.xlabel('Raman shift (cm^-1)')\n",
    "plt.ylabel('Intensity')\n",
    "plt.title('Raman Spectra of Breast Cancer Cells')\n",
    "plt.legend()\n",
    "plt.show()\n"
   ]
  },
  {
   "cell_type": "code",
   "execution_count": 4,
   "metadata": {},
   "outputs": [
    {
     "data": {
      "image/png": "[encoded data removed]",
      "text/plain": [
       "<Figure size 1200x600 with 1 Axes>"
      ]
     },
     "metadata": {},
     "output_type": "display_data"
    },
    {
     "data": {
      "image/png": "[encoded data removed]",
      "text/plain": [
       "<Figure size 1000x800 with 2 Axes>"
      ]
     },
     "metadata": {},
     "output_type": "display_data"
    }
   ],
   "source": [
    "import pandas as pd\n",
    "import matplotlib.pyplot as plt\n",
    "import seaborn as sns\n",
    "\n",
    "# Load the data from the provided CSV file\n",
    "file_path = 'Project datasets/Sample files/train_inputs_50_with_shifts.csv'\n",
    "data = pd.read_csv(file_path)\n",
    "\n",
    "# Plotting the spectra for a few samples\n",
    "plt.figure(figsize=(12, 6))\n",
    "\n",
    "# Sample a few rows for visualization\n",
    "sample_indices = [0]  # You can choose other indices or more indices\n",
    "for idx in sample_indices:\n",
    "    plt.plot(data.columns, data.iloc[idx], label=f'Sample {idx}')\n",
    "\n",
    "plt.xlabel('Ramam Shift (cm^-1)')\n",
    "plt.ylabel('Intensity')\n",
    "plt.title('Raman Spectra of Breast Cancer Cells (Low SNR)')\n",
    "plt.legend()\n",
    "plt.show()\n",
    "\n",
    "# Creating a heatmap for all spectra\n",
    "plt.figure(figsize=(10, 8))\n",
    "sns.heatmap(data, cmap='viridis', cbar=True)\n",
    "plt.xlabel('Raman Shift (cm^-1)')\n",
    "plt.ylabel('Sample Index')\n",
    "plt.title('Heatmap of Raman Spectra (Low SNR)')\n",
    "plt.show()\n"
   ]
  },
  {
   "cell_type": "code",
   "execution_count": 5,
   "metadata": {},
   "outputs": [
    {
     "data": {
      "image/png": "[encoded data removed]",
      "text/plain": [
       "<Figure size 1200x600 with 1 Axes>"
      ]
     },
     "metadata": {},
     "output_type": "display_data"
    }
   ],
   "source": [
    "import pandas as pd\n",
    "import matplotlib.pyplot as plt\n",
    "import seaborn as sns\n",
    "\n",
    "# Load the data from the provided CSV file\n",
    "file_path = 'Project datasets/Sample files/train_outputs_50_with_shifts.csv'\n",
    "data = pd.read_csv(file_path)\n",
    "\n",
    "# Plotting the spectra for a few samples\n",
    "plt.figure(figsize=(12, 6))\n",
    "\n",
    "# Sample a few rows for visualization\n",
    "sample_indices = [0]  # You can choose other indices or more indices\n",
    "for idx in sample_indices:\n",
    "    plt.plot(data.columns, data.iloc[idx], label=f'Sample {idx}')\n",
    "\n",
    "plt.xlabel('Raman Shift (cm^-1)')\n",
    "plt.ylabel('Intensity')\n",
    "plt.title('Raman Spectra of Breast Cancer Cells (Low SNR)')\n",
    "plt.legend()\n",
    "plt.show()"
   ]
  },
  {
   "cell_type": "code",
   "execution_count": 8,
   "metadata": {},
   "outputs": [
    {
     "data": {
      "application/vnd.plotly.v1+json": {
       "config": {
        "plotlyServerURL": "https://plot.ly"
       },
       "data": [
        {
         "mode": "lines",
         "name": "Sample 0",
         "type": "scatter",
         "x": [
          0,
          1,
          2,
          3,
          4,
          5,
          6,
          7,
          8,
          9,
          10,
          11,
          12,
          13,
          14,
          15,
          16,
          17,
          18,
          19,
          20,
          21,
          22,
          23,
          24,
          25,
          26,
          27,
          28,
          29,
          30,
          31,
          32,
          33,
          34,
          35,
          36,
          37,
          38,
          39,
          40,
          41,
          42,
          43,
          44,
          45,
          46,
          47,
          48,
          49,
          50,
          51,
          52,
          53,
          54,
          55,
          56,
          57,
          58,
          59,
          60,
          61,
          62,
          63,
          64,
          65,
          66,
          67,
          68,
          69,
          70,
          71,
          72,
          73,
          74,
          75,
          76,
          77,
          78,
          79,
          80,
          81,
          82,
          83,
          84,
          85,
          86,
          87,
          88,
          89,
          90,
          91,
          92,
          93,
          94,
          95,
          96,
          97,
          98,
          99,
          100,
          101,
          102,
          103,
          104,
          105,
          106,
          107,
          108,
          109,
          110,
          111,
          112,
          113,
          114,
          115,
          116,
          117,
          118,
          119,
          120,
          121,
          122,
          123,
          124,
          125,
          126,
          127,
          128,
          129,
          130,
          131,
          132,
          133,
          134,
          135,
          136,
          137,
          138,
          139,
          140,
          141,
          142,
          143,
          144,
          145,
          146,
          147,
          148,
          149,
          150,
          151,
          152,
          153,
          154,
          155,
          156,
          157,
          158,
          159,
          160,
          161,
          162,
          163,
          164,
          165,
          166,
          167,
          168,
          169,
          170,
          171,
          172,
          173,
          174,
          175,
          176,
          177,
          178,
          179,
          180,
          181,
          182,
          183,
          184,
          185,
          186,
          187,
          188,
          189,
          190,
          191,
          192,
          193,
          194,
          195,
          196,
          197,
          198,
          199,
          200,
          201,
          202,
          203,
          204,
          205,
          206,
          207,
          208,
          209,
          210,
          211,
          212,
          213,
          214,
          215,
          216,
          217,
          218,
          219,
          220,
          221,
          222,
          223,
          224,
          225,
          226,
          227,
          228,
          229,
          230,
          231,
          232,
          233,
          234,
          235,
          236,
          237,
          238,
          239,
          240,
          241,
          242,
          243,
          244,
          245,
          246,
          247,
          248,
          249,
          250,
          251,
          252,
          253,
          254,
          255,
          256,
          257,
          258,
          259,
          260,
          261,
          262,
          263,
          264,
          265,
          266,
          267,
          268,
          269,
          270,
          271,
          272,
          273,
          274,
          275,
          276,
          277,
          278,
          279,
          280,
          281,
          282,
          283,
          284,
          285,
          286,
          287,
          288,
          289,
          290,
          291,
          292,
          293,
          294,
          295,
          296,
          297,
          298,
          299,
          300,
          301,
          302,
          303,
          304,
          305,
          306,
          307,
          308,
          309,
          310,
          311,
          312,
          313,
          314,
          315,
          316,
          317,
          318,
          319,
          320,
          321,
          322,
          323,
          324,
          325,
          326,
          327,
          328,
          329,
          330,
          331,
          332,
          333,
          334,
          335,
          336,
          337,
          338,
          339,
          340,
          341,
          342,
          343,
          344,
          345,
          346,
          347,
          348,
          349,
          350,
          351,
          352,
          353,
          354,
          355,
          356,
          357,
          358,
          359,
          360,
          361,
          362,
          363,
          364,
          365,
          366,
          367,
          368,
          369,
          370,
          371,
          372,
          373,
          374,
          375,
          376,
          377,
          378,
          379,
          380,
          381,
          382,
          383,
          384,
          385,
          386,
          387,
          388,
          389,
          390,
          391,
          392,
          393,
          394,
          395,
          396,
          397,
          398,
          399,
          400,
          401,
          402,
          403,
          404,
          405,
          406,
          407,
          408,
          409,
          410,
          411,
          412,
          413,
          414,
          415,
          416,
          417,
          418,
          419,
          420,
          421,
          422,
          423,
          424,
          425,
          426,
          427,
          428,
          429,
          430,
          431,
          432,
          433,
          434,
          435,
          436,
          437,
          438,
          439,
          440,
          441,
          442,
          443,
          444,
          445,
          446,
          447,
          448,
          449,
          450,
          451,
          452,
          453,
          454,
          455,
          456,
          457,
          458,
          459,
          460,
          461,
          462,
          463,
          464,
          465,
          466,
          467,
          468,
          469,
          470,
          471,
          472,
          473,
          474,
          475,
          476,
          477,
          478,
          479,
          480,
          481,
          482,
          483,
          484,
          485,
          486,
          487,
          488,
          489,
          490,
          491,
          492,
          493,
          494,
          495,
          496,
          497,
          498,
          499
         ],
         "y": [
          7.87e-7,
          0.066955,
          0.0050718,
          0.020617,
          0.010468,
          0.013307,
          0.042037,
          0.057356,
          0.0080971,
          0.049136,
          0.00000157,
          0.027023,
          0.054057,
          0.04243,
          0.017923,
          0.070776,
          0.08497,
          0.021829,
          0.04894,
          0.011609,
          0.064531,
          0.040121,
          0.028617,
          0.055802,
          0.044329,
          0.058655,
          0.072999,
          0.087359,
          0.037282,
          0.051679,
          0.066095,
          0.041856,
          0.017639,
          0.08368,
          0.059278,
          0.021906,
          0.087677,
          0.063224,
          0.051676,
          0.078815,
          0.041513,
          0.068682,
          0.044303,
          0.071504,
          0.060048,
          0.074391,
          0.062969,
          7.87e-7,
          0.064364,
          0.11584,
          0.038401,
          0.089878,
          0.0769,
          0.1026,
          0.038057,
          0.08954,
          0.037894,
          0.050706,
          0.063519,
          0.076333,
          0.08915,
          0.050402,
          0.063221,
          0.076042,
          0.050189,
          0.03723,
          0.062946,
          0.037098,
          0.062817,
          0.075645,
          0.088476,
          0.10131,
          0.062575,
          0.088301,
          0.088245,
          0.062409,
          0.036574,
          0.049414,
          0.062255,
          0.087989,
          0.10083,
          0.075005,
          0.10074,
          0.1007,
          0.036204,
          0.049055,
          0.074799,
          0.061871,
          0.10051,
          0.04891,
          0.061768,
          0.074628,
          0.074598,
          0.048786,
          0.04876,
          0.074516,
          0.074492,
          0.022903,
          0.035773,
          0.074426,
          0.035734,
          0.048608,
          0.048591,
          0.08725,
          0.035673,
          0.035661,
          0.048541,
          0.074314,
          0.035633,
          0.048518,
          0.061404,
          0.048509,
          0.061399,
          0.061398,
          0.035617,
          0.022727,
          0.061404,
          0.061409,
          0.061415,
          0.048532,
          0.061432,
          0.074334,
          0.10013,
          0.048577,
          0.048591,
          0.07439,
          0.061516,
          0.087317,
          0.087338,
          0.035794,
          0.10027,
          0.048734,
          0.035868,
          0.048786,
          0.048815,
          0.061736,
          0.074659,
          0.061801,
          0.061835,
          0.036089,
          0.08769,
          0.061947,
          0.023313,
          0.062015,
          0.023358,
          0.036267,
          0.036285,
          0.036306,
          0.062109,
          0.049242,
          0.010593,
          0.049292,
          0.036428,
          0.07513,
          0.062269,
          0.088083,
          0.02366,
          0.10104,
          0.075295,
          0.04955,
          0.062479,
          0.062519,
          0.036778,
          0.049712,
          0.036865,
          0.03691,
          0.024066,
          0.037006,
          0.049947,
          0.037107,
          0.050051,
          0.037213,
          0.075942,
          0.037326,
          0.050275,
          0.076117,
          0.050395,
          0.037567,
          0.02474,
          0.037696,
          0.037763,
          0.063613,
          0.037901,
          0.050863,
          0.025153,
          0.051009,
          0.089757,
          0.076943,
          0.038348,
          0.012645,
          0.038508,
          0.03859,
          7.87e-7,
          0.051546,
          0.051529,
          0.012839,
          0.051498,
          0.051485,
          0.025691,
          0.051462,
          0.01278,
          0.077228,
          0.077222,
          0.025652,
          0.051431,
          0.038538,
          0.06432,
          0.051429,
          0.064322,
          0.038544,
          0.064331,
          0.051446,
          0.090127,
          0.038571,
          0.0128,
          0.090159,
          0.038607,
          0.038622,
          0.025747,
          0.051546,
          0.07734,
          0.012878,
          0.077329,
          0.038652,
          0.064432,
          0.012867,
          0.051541,
          0.038652,
          0.051546,
          0.025769,
          0.051557,
          7.87e-7,
          0.025793,
          0.025803,
          0.051597,
          0.038719,
          0.038734,
          0.012967,
          0.025876,
          0.038786,
          0.025915,
          0.013046,
          0.038851,
          0.025984,
          0.064684,
          0.00025571,
          0.038957,
          0.026096,
          0.05191,
          0.026161,
          0.039087,
          0.039122,
          0.05205,
          0.026306,
          0.026346,
          0.077952,
          0.00064833,
          0.026475,
          0.039411,
          0.013676,
          0.013724,
          0.013774,
          0.078281,
          0.052551,
          0.052605,
          0.026878,
          0.026935,
          0.052775,
          0.052835,
          0.078678,
          0.027177,
          0.065914,
          0.040197,
          0.053155,
          0.02744,
          0.079075,
          0.040472,
          0.053436,
          0.05351,
          0.092258,
          0.04077,
          0.053739,
          0.053819,
          0.066791,
          0.079765,
          0.054066,
          0.04126,
          0.1058,
          0.041435,
          0.067306,
          0.054506,
          0.054599,
          0.067584,
          0.054788,
          0.067775,
          0.067874,
          0.0293,
          0.080965,
          0.081068,
          0.055389,
          0.068386,
          0.055602,
          0.042819,
          0.042929,
          0.081713,
          0.094717,
          0.069048,
          0.10784,
          0.095064,
          0.056508,
          0.043737,
          0.030967,
          0.043981,
          0.082779,
          0.082904,
          0.031467,
          0.044487,
          0.070399,
          0.044748,
          0.044881,
          0.045016,
          0.058043,
          0.019502,
          0.032504,
          0.032617,
          0.058513,
          0.032846,
          0.020072,
          0.071755,
          0.033201,
          0.046213,
          0.072118,
          0.0077871,
          0.020804,
          0.033823,
          0.02106,
          0.046973,
          0.059995,
          0.047237,
          0.034481,
          0.047508,
          0.021863,
          0.086457,
          0.022142,
          0.009393,
          0.035319,
          0.022573,
          0.074284,
          0.048649,
          0.035908,
          0.023168,
          0.049102,
          0.075038,
          0.049411,
          0.088242,
          0.062618,
          0.088561,
          0.10161,
          0.063102,
          0.063267,
          0.063433,
          0.089383,
          0.089551,
          0.06394,
          0.064112,
          0.038503,
          0.025787,
          0.038855,
          0.077706,
          0.077887,
          0.065176,
          0.065359,
          0.02687,
          0.027056,
          0.040135,
          0.053215,
          0.040515,
          0.040707,
          0.028009,
          0.028204,
          0.054183,
          0.054381,
          0.015908,
          0.029001,
          0.054986,
          0.029409,
          0.016724,
          0.042714,
          0.042923,
          0.043135,
          0.069129,
          0.017779,
          0.030886,
          0.043995,
          0.031322,
          0.044434,
          0.057548,
          0.019098,
          0.045106,
          0.058224,
          0.071344,
          0.058684,
          0.071807,
          0.033367,
          0.046494,
          0.059622,
          0.05986,
          0.085882,
          0.073233,
          0.073477,
          0.086613,
          0.048187,
          0.074218,
          0.087359,
          0.036046,
          0.087864,
          0.023664,
          0.075485,
          0.049962,
          0.088896,
          0.076267,
          0.07653,
          0.051013,
          0.077063,
          0.10311,
          0.077603,
          0.064984,
          0.10393,
          0.10421,
          0.13027,
          0.053199,
          0.13083,
          0.066654,
          0.066939,
          0.1059,
          0.093296,
          0.093585,
          0.093877,
          0.15863,
          0.15892,
          0.17211,
          0.14663,
          0.12114,
          0.069882,
          0.14753,
          0.10917,
          0.13526,
          0.10978,
          0.11009,
          0.097517,
          0.08494,
          0.098149,
          0.11136,
          0.098788,
          0.08622,
          0.086545,
          0.073979,
          0.074308,
          0.074638,
          0.049188,
          0.088195,
          0.10142,
          0.075978,
          0.024752,
          0.076658,
          0.038329,
          7.87e-7,
          0.038673,
          0.051565,
          0.051568,
          0.051571,
          0.025793,
          0.038691,
          0.05159,
          0.025798,
          0.051565,
          0.038661,
          0.038649,
          0.025748,
          0.051521,
          0.02573,
          0.051506,
          0.03861,
          0.025716,
          0.038605,
          0.038604,
          0.038605,
          0.051498,
          0.012828,
          0.051506,
          0.038622,
          0.038629,
          0.038639,
          0.064431,
          0.012879,
          7.87e-7,
          0.064418,
          0.077272,
          0.025672,
          0.038529
         ]
        }
       ],
       "layout": {
        "template": {
         "data": {
          "bar": [
           {
            "error_x": {
             "color": "#2a3f5f"
            },
            "error_y": {
             "color": "#2a3f5f"
            },
            "marker": {
             "line": {
              "color": "#E5ECF6",
              "width": 0.5
             },
             "pattern": {
              "fillmode": "overlay",
              "size": 10,
              "solidity": 0.2
             }
            },
            "type": "bar"
           }
          ],
          "barpolar": [
           {
            "marker": {
             "line": {
              "color": "#E5ECF6",
              "width": 0.5
             },
             "pattern": {
              "fillmode": "overlay",
              "size": 10,
              "solidity": 0.2
             }
            },
            "type": "barpolar"
           }
          ],
          "carpet": [
           {
            "aaxis": {
             "endlinecolor": "#2a3f5f",
             "gridcolor": "white",
             "linecolor": "white",
             "minorgridcolor": "white",
             "startlinecolor": "#2a3f5f"
            },
            "baxis": {
             "endlinecolor": "#2a3f5f",
             "gridcolor": "white",
             "linecolor": "white",
             "minorgridcolor": "white",
             "startlinecolor": "#2a3f5f"
            },
            "type": "carpet"
           }
          ],
          "choropleth": [
           {
            "colorbar": {
             "outlinewidth": 0,
             "ticks": ""
            },
            "type": "choropleth"
           }
          ],
          "contour": [
           {
            "colorbar": {
             "outlinewidth": 0,
             "ticks": ""
            },
            "colorscale": [
             [
              0,
              "#0d0887"
             ],
             [
              0.1111111111111111,
              "#46039f"
             ],
             [
              0.2222222222222222,
              "#7201a8"
             ],
             [
              0.3333333333333333,
              "#9c179e"
             ],
             [
              0.4444444444444444,
              "#bd3786"
             ],
             [
              0.5555555555555556,
              "#d8576b"
             ],
             [
              0.6666666666666666,
              "#ed7953"
             ],
             [
              0.7777777777777778,
              "#fb9f3a"
             ],
             [
              0.8888888888888888,
              "#fdca26"
             ],
             [
              1,
              "#f0f921"
             ]
            ],
            "type": "contour"
           }
          ],
          "contourcarpet": [
           {
            "colorbar": {
             "outlinewidth": 0,
             "ticks": ""
            },
            "type": "contourcarpet"
           }
          ],
          "heatmap": [
           {
            "colorbar": {
             "outlinewidth": 0,
             "ticks": ""
            },
            "colorscale": [
             [
              0,
              "#0d0887"
             ],
             [
              0.1111111111111111,
              "#46039f"
             ],
             [
              0.2222222222222222,
              "#7201a8"
             ],
             [
              0.3333333333333333,
              "#9c179e"
             ],
             [
              0.4444444444444444,
              "#bd3786"
             ],
             [
              0.5555555555555556,
              "#d8576b"
             ],
             [
              0.6666666666666666,
              "#ed7953"
             ],
             [
              0.7777777777777778,
              "#fb9f3a"
             ],
             [
              0.8888888888888888,
              "#fdca26"
             ],
             [
              1,
              "#f0f921"
             ]
            ],
            "type": "heatmap"
           }
          ],
          "heatmapgl": [
           {
            "colorbar": {
             "outlinewidth": 0,
             "ticks": ""
            },
            "colorscale": [
             [
              0,
              "#0d0887"
             ],
             [
              0.1111111111111111,
              "#46039f"
             ],
             [
              0.2222222222222222,
              "#7201a8"
             ],
             [
              0.3333333333333333,
              "#9c179e"
             ],
             [
              0.4444444444444444,
              "#bd3786"
             ],
             [
              0.5555555555555556,
              "#d8576b"
             ],
             [
              0.6666666666666666,
              "#ed7953"
             ],
             [
              0.7777777777777778,
              "#fb9f3a"
             ],
             [
              0.8888888888888888,
              "#fdca26"
             ],
             [
              1,
              "#f0f921"
             ]
            ],
            "type": "heatmapgl"
           }
          ],
          "histogram": [
           {
            "marker": {
             "pattern": {
              "fillmode": "overlay",
              "size": 10,
              "solidity": 0.2
             }
            },
            "type": "histogram"
           }
          ],
          "histogram2d": [
           {
            "colorbar": {
             "outlinewidth": 0,
             "ticks": ""
            },
            "colorscale": [
             [
              0,
              "#0d0887"
             ],
             [
              0.1111111111111111,
              "#46039f"
             ],
             [
              0.2222222222222222,
              "#7201a8"
             ],
             [
              0.3333333333333333,
              "#9c179e"
             ],
             [
              0.4444444444444444,
              "#bd3786"
             ],
             [
              0.5555555555555556,
              "#d8576b"
             ],
             [
              0.6666666666666666,
              "#ed7953"
             ],
             [
              0.7777777777777778,
              "#fb9f3a"
             ],
             [
              0.8888888888888888,
              "#fdca26"
             ],
             [
              1,
              "#f0f921"
             ]
            ],
            "type": "histogram2d"
           }
          ],
          "histogram2dcontour": [
           {
            "colorbar": {
             "outlinewidth": 0,
             "ticks": ""
            },
            "colorscale": [
             [
              0,
              "#0d0887"
             ],
             [
              0.1111111111111111,
              "#46039f"
             ],
             [
              0.2222222222222222,
              "#7201a8"
             ],
             [
              0.3333333333333333,
              "#9c179e"
             ],
             [
              0.4444444444444444,
              "#bd3786"
             ],
             [
              0.5555555555555556,
              "#d8576b"
             ],
             [
              0.6666666666666666,
              "#ed7953"
             ],
             [
              0.7777777777777778,
              "#fb9f3a"
             ],
             [
              0.8888888888888888,
              "#fdca26"
             ],
             [
              1,
              "#f0f921"
             ]
            ],
            "type": "histogram2dcontour"
           }
          ],
          "mesh3d": [
           {
            "colorbar": {
             "outlinewidth": 0,
             "ticks": ""
            },
            "type": "mesh3d"
           }
          ],
          "parcoords": [
           {
            "line": {
             "colorbar": {
              "outlinewidth": 0,
              "ticks": ""
             }
            },
            "type": "parcoords"
           }
          ],
          "pie": [
           {
            "automargin": true,
            "type": "pie"
           }
          ],
          "scatter": [
           {
            "marker": {
             "colorbar": {
              "outlinewidth": 0,
              "ticks": ""
             }
            },
            "type": "scatter"
           }
          ],
          "scatter3d": [
           {
            "line": {
             "colorbar": {
              "outlinewidth": 0,
              "ticks": ""
             }
            },
            "marker": {
             "colorbar": {
              "outlinewidth": 0,
              "ticks": ""
             }
            },
            "type": "scatter3d"
           }
          ],
          "scattercarpet": [
           {
            "marker": {
             "colorbar": {
              "outlinewidth": 0,
              "ticks": ""
             }
            },
            "type": "scattercarpet"
           }
          ],
          "scattergeo": [
           {
            "marker": {
             "colorbar": {
              "outlinewidth": 0,
              "ticks": ""
             }
            },
            "type": "scattergeo"
           }
          ],
          "scattergl": [
           {
            "marker": {
             "colorbar": {
              "outlinewidth": 0,
              "ticks": ""
             }
            },
            "type": "scattergl"
           }
          ],
          "scattermapbox": [
           {
            "marker": {
             "colorbar": {
              "outlinewidth": 0,
              "ticks": ""
             }
            },
            "type": "scattermapbox"
           }
          ],
          "scatterpolar": [
           {
            "marker": {
             "colorbar": {
              "outlinewidth": 0,
              "ticks": ""
             }
            },
            "type": "scatterpolar"
           }
          ],
          "scatterpolargl": [
           {
            "marker": {
             "colorbar": {
              "outlinewidth": 0,
              "ticks": ""
             }
            },
            "type": "scatterpolargl"
           }
          ],
          "scatterternary": [
           {
            "marker": {
             "colorbar": {
              "outlinewidth": 0,
              "ticks": ""
             }
            },
            "type": "scatterternary"
           }
          ],
          "surface": [
           {
            "colorbar": {
             "outlinewidth": 0,
             "ticks": ""
            },
            "colorscale": [
             [
              0,
              "#0d0887"
             ],
             [
              0.1111111111111111,
              "#46039f"
             ],
             [
              0.2222222222222222,
              "#7201a8"
             ],
             [
              0.3333333333333333,
              "#9c179e"
             ],
             [
              0.4444444444444444,
              "#bd3786"
             ],
             [
              0.5555555555555556,
              "#d8576b"
             ],
             [
              0.6666666666666666,
              "#ed7953"
             ],
             [
              0.7777777777777778,
              "#fb9f3a"
             ],
             [
              0.8888888888888888,
              "#fdca26"
             ],
             [
              1,
              "#f0f921"
             ]
            ],
            "type": "surface"
           }
          ],
          "table": [
           {
            "cells": {
             "fill": {
              "color": "#EBF0F8"
             },
             "line": {
              "color": "white"
             }
            },
            "header": {
             "fill": {
              "color": "#C8D4E3"
             },
             "line": {
              "color": "white"
             }
            },
            "type": "table"
           }
          ]
         },
         "layout": {
          "annotationdefaults": {
           "arrowcolor": "#2a3f5f",
           "arrowhead": 0,
           "arrowwidth": 1
          },
          "autotypenumbers": "strict",
          "coloraxis": {
           "colorbar": {
            "outlinewidth": 0,
            "ticks": ""
           }
          },
          "colorscale": {
           "diverging": [
            [
             0,
             "#8e0152"
            ],
            [
             0.1,
             "#c51b7d"
            ],
            [
             0.2,
             "#de77ae"
            ],
            [
             0.3,
             "#f1b6da"
            ],
            [
             0.4,
             "#fde0ef"
            ],
            [
             0.5,
             "#f7f7f7"
            ],
            [
             0.6,
             "#e6f5d0"
            ],
            [
             0.7,
             "#b8e186"
            ],
            [
             0.8,
             "#7fbc41"
            ],
            [
             0.9,
             "#4d9221"
            ],
            [
             1,
             "#276419"
            ]
           ],
           "sequential": [
            [
             0,
             "#0d0887"
            ],
            [
             0.1111111111111111,
             "#46039f"
            ],
            [
             0.2222222222222222,
             "#7201a8"
            ],
            [
             0.3333333333333333,
             "#9c179e"
            ],
            [
             0.4444444444444444,
             "#bd3786"
            ],
            [
             0.5555555555555556,
             "#d8576b"
            ],
            [
             0.6666666666666666,
             "#ed7953"
            ],
            [
             0.7777777777777778,
             "#fb9f3a"
            ],
            [
             0.8888888888888888,
             "#fdca26"
            ],
            [
             1,
             "#f0f921"
            ]
           ],
           "sequentialminus": [
            [
             0,
             "#0d0887"
            ],
            [
             0.1111111111111111,
             "#46039f"
            ],
            [
             0.2222222222222222,
             "#7201a8"
            ],
            [
             0.3333333333333333,
             "#9c179e"
            ],
            [
             0.4444444444444444,
             "#bd3786"
            ],
            [
             0.5555555555555556,
             "#d8576b"
            ],
            [
             0.6666666666666666,
             "#ed7953"
            ],
            [
             0.7777777777777778,
             "#fb9f3a"
            ],
            [
             0.8888888888888888,
             "#fdca26"
            ],
            [
             1,
             "#f0f921"
            ]
           ]
          },
          "colorway": [
           "#636efa",
           "#EF553B",
           "#00cc96",
           "#ab63fa",
           "#FFA15A",
           "#19d3f3",
           "#FF6692",
           "#B6E880",
           "#FF97FF",
           "#FECB52"
          ],
          "font": {
           "color": "#2a3f5f"
          },
          "geo": {
           "bgcolor": "white",
           "lakecolor": "white",
           "landcolor": "#E5ECF6",
           "showlakes": true,
           "showland": true,
           "subunitcolor": "white"
          },
          "hoverlabel": {
           "align": "left"
          },
          "hovermode": "closest",
          "mapbox": {
           "style": "light"
          },
          "paper_bgcolor": "white",
          "plot_bgcolor": "#E5ECF6",
          "polar": {
           "angularaxis": {
            "gridcolor": "white",
            "linecolor": "white",
            "ticks": ""
           },
           "bgcolor": "#E5ECF6",
           "radialaxis": {
            "gridcolor": "white",
            "linecolor": "white",
            "ticks": ""
           }
          },
          "scene": {
           "xaxis": {
            "backgroundcolor": "#E5ECF6",
            "gridcolor": "white",
            "gridwidth": 2,
            "linecolor": "white",
            "showbackground": true,
            "ticks": "",
            "zerolinecolor": "white"
           },
           "yaxis": {
            "backgroundcolor": "#E5ECF6",
            "gridcolor": "white",
            "gridwidth": 2,
            "linecolor": "white",
            "showbackground": true,
            "ticks": "",
            "zerolinecolor": "white"
           },
           "zaxis": {
            "backgroundcolor": "#E5ECF6",
            "gridcolor": "white",
            "gridwidth": 2,
            "linecolor": "white",
            "showbackground": true,
            "ticks": "",
            "zerolinecolor": "white"
           }
          },
          "shapedefaults": {
           "line": {
            "color": "#2a3f5f"
           }
          },
          "ternary": {
           "aaxis": {
            "gridcolor": "white",
            "linecolor": "white",
            "ticks": ""
           },
           "baxis": {
            "gridcolor": "white",
            "linecolor": "white",
            "ticks": ""
           },
           "bgcolor": "#E5ECF6",
           "caxis": {
            "gridcolor": "white",
            "linecolor": "white",
            "ticks": ""
           }
          },
          "title": {
           "x": 0.05
          },
          "xaxis": {
           "automargin": true,
           "gridcolor": "white",
           "linecolor": "white",
           "ticks": "",
           "title": {
            "standoff": 15
           },
           "zerolinecolor": "white",
           "zerolinewidth": 2
          },
          "yaxis": {
           "automargin": true,
           "gridcolor": "white",
           "linecolor": "white",
           "ticks": "",
           "title": {
            "standoff": 15
           },
           "zerolinecolor": "white",
           "zerolinewidth": 2
          }
         }
        },
        "title": {
         "text": "Raman Spectra of Breast Cancer Cells (Low SNR)"
        },
        "xaxis": {
         "title": {
          "text": "Raman Shift (cm^-1)"
         }
        },
        "yaxis": {
         "title": {
          "text": "Intensity"
         }
        }
       }
      }
     },
     "metadata": {},
     "output_type": "display_data"
    }
   ],
   "source": [
    "import pandas as pd\n",
    "import plotly.graph_objects as go\n",
    "import plotly.express as px\n",
    "\n",
    "# Load the data from the provided CSV file\n",
    "file_path = 'Project datasets/Sample files/train_inputs_50_with_shifts.csv'\n",
    "data = pd.read_csv(file_path)\n",
    "\n",
    "# Create a line plot for a few samples\n",
    "fig = go.Figure()\n",
    "\n",
    "# Sample a few rows for visualization\n",
    "sample_indices = [0]  # You can choose other indices or more indices\n",
    "for idx in sample_indices:\n",
    "    fig.add_trace(go.Scatter(x=list(range(data.shape[1])), y=data.iloc[idx], mode='lines', name=f'Sample {idx}'))\n",
    "\n",
    "fig.update_layout(\n",
    "    title='Raman Spectra of Breast Cancer Cells (Low SNR)',\n",
    "    xaxis_title='Raman Shift (cm^-1)',\n",
    "    yaxis_title='Intensity'\n",
    ")\n",
    "\n",
    "fig.show()\n"
   ]
  },
  {
   "cell_type": "code",
   "execution_count": 11,
   "metadata": {},
   "outputs": [
    {
     "data": {
      "application/vnd.plotly.v1+json": {
       "config": {
        "plotlyServerURL": "https://plot.ly"
       },
       "data": [
        {
         "mode": "lines",
         "name": "Sample 0",
         "type": "scatter",
         "x": [
          "4.982649999999999864e+02",
          "5.010860000000000127e+02",
          "5.039069999999999823e+02",
          "5.067259999999999991e+02",
          "5.095439999999999827e+02",
          "5.123619999999999663e+02",
          "5.151789999999999736e+02",
          "5.179940000000000282e+02",
          "5.208089999999999691e+02",
          "5.236230000000000473e+02",
          "5.264360000000000355e+02",
          "5.292480000000000473e+02",
          "5.320589999999999691e+02",
          "5.348700000000000045e+02",
          "5.376789999999999736e+02",
          "5.404869999999999663e+02",
          "5.432949999999999591e+02",
          "5.461009999999999991e+02",
          "5.489070000000000391e+02",
          "5.517119999999999891e+02",
          "5.545159999999999627e+02",
          "5.573189999999999600e+02",
          "5.601209999999999809e+02",
          "5.629220000000000255e+02",
          "5.657219999999999800e+02",
          "5.685209999999999582e+02",
          "5.713200000000000500e+02",
          "5.741169999999999618e+02",
          "5.769139999999999873e+02",
          "5.797089999999999463e+02",
          "5.825040000000000191e+02",
          "5.852980000000000018e+02",
          "5.880910000000000082e+02",
          "5.908830000000000382e+02",
          "5.936739999999999782e+02",
          "5.964640000000000555e+02",
          "5.992530000000000427e+02",
          "6.020420000000000300e+02",
          "6.048289999999999509e+02",
          "6.076159999999999854e+02",
          "6.104020000000000437e+02",
          "6.131860000000000355e+02",
          "6.159700000000000273e+02",
          "6.187530000000000427e+02",
          "6.215349999999999682e+02",
          "6.243160000000000309e+02",
          "6.270969999999999800e+02",
          "6.298759999999999764e+02",
          "6.326549999999999727e+02",
          "6.354320000000000164e+02",
          "6.382089999999999463e+02",
          "6.409850000000000136e+02",
          "6.437599999999999909e+02",
          "6.465330000000000155e+02",
          "6.493070000000000164e+02",
          "6.520789999999999509e+02",
          "6.548500000000000227e+02",
          "6.576200000000000045e+02",
          "6.603899999999999864e+02",
          "6.631589999999999918e+02",
          "6.659260000000000446e+02",
          "6.686929999999999836e+02",
          "6.714589999999999463e+02",
          "6.742240000000000464e+02",
          "6.769880000000000564e+02",
          "6.797509999999999764e+02",
          "6.825140000000000100e+02",
          "6.852749999999999773e+02",
          "6.880359999999999445e+02",
          "6.907949999999999591e+02",
          "6.935539999999999736e+02",
          "6.963120000000000118e+02",
          "6.990689999999999600e+02",
          "7.018250000000000455e+02",
          "7.045800000000000409e+02",
          "7.073350000000000364e+02",
          "7.100879999999999654e+02",
          "7.128410000000000082e+02",
          "7.155919999999999845e+02",
          "7.183429999999999609e+02",
          "7.210929999999999609e+02",
          "7.238419999999999845e+02",
          "7.265900000000000318e+02",
          "7.293369999999999891e+02",
          "7.320839999999999463e+02",
          "7.348289999999999509e+02",
          "7.375739999999999554e+02",
          "7.403170000000000073e+02",
          "7.430599999999999454e+02",
          "7.458020000000000209e+02",
          "7.485430000000000064e+02",
          "7.512830000000000155e+02",
          "7.540220000000000482e+02",
          "7.567609999999999673e+02",
          "7.594980000000000473e+02",
          "7.622350000000000136e+02",
          "7.649710000000000036e+02",
          "7.677050000000000409e+02",
          "7.704389999999999645e+02",
          "7.731730000000000018e+02",
          "7.759049999999999727e+02",
          "7.786359999999999673e+02",
          "7.813669999999999618e+02",
          "7.840960000000000036e+02",
          "7.868250000000000455e+02",
          "7.895529999999999973e+02",
          "7.922799999999999727e+02",
          "7.950059999999999718e+02",
          "7.977309999999999945e+02",
          "8.004550000000000409e+02",
          "8.031789999999999736e+02",
          "8.059009999999999536e+02",
          "8.086230000000000473e+02",
          "8.113440000000000509e+02",
          "8.140639999999999645e+02",
          "8.167830000000000155e+02",
          "8.195009999999999764e+02",
          "8.222179999999999609e+02",
          "8.249349999999999454e+02",
          "8.276499999999999773e+02",
          "8.303650000000000091e+02",
          "8.330789999999999509e+02",
          "8.357920000000000300e+02",
          "8.385040000000000191e+02",
          "8.412150000000000318e+02",
          "8.439260000000000446e+02",
          "8.466349999999999909e+02",
          "8.493440000000000509e+02",
          "8.520510000000000446e+02",
          "8.547580000000000382e+02",
          "8.574640000000000555e+02",
          "8.601689999999999827e+02",
          "8.628740000000000236e+02",
          "8.655769999999999982e+02",
          "8.682799999999999727e+02",
          "8.709809999999999945e+02",
          "8.736820000000000164e+02",
          "8.763819999999999482e+02",
          "8.790810000000000173e+02",
          "8.817789999999999964e+02",
          "8.844769999999999754e+02",
          "8.871730000000000018e+02",
          "8.898690000000000282e+02",
          "8.925639999999999645e+02",
          "8.952580000000000382e+02",
          "8.979510000000000218e+02",
          "9.006430000000000291e+02",
          "9.033339999999999463e+02",
          "9.060249999999999773e+02",
          "9.087140000000000555e+02",
          "9.114030000000000200e+02",
          "9.140910000000000082e+02",
          "9.167780000000000200e+02",
          "9.194640000000000555e+02",
          "9.221499999999999773e+02",
          "9.248339999999999463e+02",
          "9.275180000000000291e+02",
          "9.302000000000000455e+02",
          "9.328819999999999482e+02",
          "9.355629999999999882e+02",
          "9.382430000000000518e+02",
          "9.409230000000000018e+02",
          "9.436009999999999991e+02",
          "9.462789999999999964e+02",
          "9.489560000000000173e+02",
          "9.516309999999999718e+02",
          "9.543070000000000164e+02",
          "9.569809999999999945e+02",
          "9.596539999999999964e+02",
          "9.623269999999999982e+02",
          "9.649980000000000473e+02",
          "9.676689999999999827e+02",
          "9.703390000000000555e+02",
          "9.730080000000000382e+02",
          "9.756760000000000446e+02",
          "9.783440000000000509e+02",
          "9.810099999999999909e+02",
          "9.836760000000000446e+02",
          "9.863410000000000082e+02",
          "9.890049999999999955e+02",
          "9.916680000000000064e+02",
          "9.943300000000000409e+02",
          "9.969919999999999618e+02",
          "9.996520000000000437e+02",
          "1.002309999999999945e+03",
          "1.004970000000000027e+03",
          "1.007629999999999995e+03",
          "1.010289999999999964e+03",
          "1.012940000000000055e+03",
          "1.015600000000000023e+03",
          "1.018250000000000000e+03",
          "1.020909999999999968e+03",
          "1.023559999999999945e+03",
          "1.026210000000000036e+03",
          "1.028859999999999900e+03",
          "1.031509999999999991e+03",
          "1.034160000000000082e+03",
          "1.036809999999999945e+03",
          "1.039460000000000036e+03",
          "1.042109999999999900e+03",
          "1.044750000000000000e+03",
          "1.047400000000000091e+03",
          "1.050039999999999964e+03",
          "1.052690000000000055e+03",
          "1.055329999999999927e+03",
          "1.057970000000000027e+03",
          "1.060609999999999900e+03",
          "1.063250000000000000e+03",
          "1.065890000000000100e+03",
          "1.068529999999999973e+03",
          "1.071170000000000073e+03",
          "1.073809999999999945e+03",
          "1.076440000000000055e+03",
          "1.079079999999999927e+03",
          "1.081710000000000036e+03",
          "1.084349999999999909e+03",
          "1.086980000000000018e+03",
          "1.089609999999999900e+03",
          "1.092240000000000009e+03",
          "1.094869999999999891e+03",
          "1.097500000000000000e+03",
          "1.100130000000000109e+03",
          "1.102759999999999991e+03",
          "1.105390000000000100e+03",
          "1.108009999999999991e+03",
          "1.110640000000000100e+03",
          "1.113259999999999991e+03",
          "1.115890000000000100e+03",
          "1.118509999999999991e+03",
          "1.121130000000000109e+03",
          "1.123750000000000000e+03",
          "1.126369999999999891e+03",
          "1.128990000000000009e+03",
          "1.131609999999999900e+03",
          "1.134230000000000018e+03",
          "1.136849999999999909e+03",
          "1.139460000000000036e+03",
          "1.142079999999999927e+03",
          "1.144690000000000055e+03",
          "1.147309999999999945e+03",
          "1.149920000000000073e+03",
          "1.152529999999999973e+03",
          "1.155140000000000100e+03",
          "1.157750000000000000e+03",
          "1.160359999999999900e+03",
          "1.162970000000000027e+03",
          "1.165579999999999927e+03",
          "1.168190000000000055e+03",
          "1.170789999999999964e+03",
          "1.173400000000000091e+03",
          "1.176000000000000000e+03",
          "1.178609999999999900e+03",
          "1.181210000000000036e+03",
          "1.183809999999999945e+03",
          "1.186410000000000082e+03",
          "1.189009999999999991e+03",
          "1.191609999999999900e+03",
          "1.194210000000000036e+03",
          "1.196809999999999945e+03",
          "1.199410000000000082e+03",
          "1.202000000000000000e+03",
          "1.204599999999999909e+03",
          "1.207190000000000055e+03",
          "1.209789999999999964e+03",
          "1.212380000000000109e+03",
          "1.214970000000000027e+03",
          "1.217569999999999936e+03",
          "1.220160000000000082e+03",
          "1.222750000000000000e+03",
          "1.225339999999999918e+03",
          "1.227920000000000073e+03",
          "1.230509999999999991e+03",
          "1.233099999999999909e+03",
          "1.235680000000000064e+03",
          "1.238269999999999982e+03",
          "1.240849999999999909e+03",
          "1.243440000000000055e+03",
          "1.246019999999999982e+03",
          "1.248599999999999909e+03",
          "1.251180000000000064e+03",
          "1.253759999999999991e+03",
          "1.256339999999999918e+03",
          "1.258920000000000073e+03",
          "1.261500000000000000e+03",
          "1.264079999999999927e+03",
          "1.266650000000000091e+03",
          "1.269230000000000018e+03",
          "1.271799999999999955e+03",
          "1.274369999999999891e+03",
          "1.276950000000000045e+03",
          "1.279519999999999982e+03",
          "1.282089999999999918e+03",
          "1.284660000000000082e+03",
          "1.287230000000000018e+03",
          "1.289799999999999955e+03",
          "1.292369999999999891e+03",
          "1.294940000000000055e+03",
          "1.297500000000000000e+03",
          "1.300069999999999936e+03",
          "1.302630000000000109e+03",
          "1.305200000000000045e+03",
          "1.307759999999999991e+03",
          "1.310319999999999936e+03",
          "1.312880000000000109e+03",
          "1.315440000000000055e+03",
          "1.318000000000000000e+03",
          "1.320559999999999945e+03",
          "1.323119999999999891e+03",
          "1.325680000000000064e+03",
          "1.328240000000000009e+03",
          "1.330789999999999964e+03",
          "1.333349999999999909e+03",
          "1.335900000000000091e+03",
          "1.338460000000000036e+03",
          "1.341009999999999991e+03",
          "1.343559999999999945e+03",
          "1.346109999999999900e+03",
          "1.348660000000000082e+03",
          "1.351210000000000036e+03",
          "1.353759999999999991e+03",
          "1.356309999999999945e+03",
          "1.358859999999999900e+03",
          "1.361400000000000091e+03",
          "1.363950000000000045e+03",
          "1.366490000000000009e+03",
          "1.369039999999999964e+03",
          "1.371579999999999927e+03",
          "1.374119999999999891e+03",
          "1.376660000000000082e+03",
          "1.379210000000000036e+03",
          "1.381750000000000000e+03",
          "1.384279999999999973e+03",
          "1.386819999999999936e+03",
          "1.389359999999999900e+03",
          "1.391900000000000091e+03",
          "1.394430000000000064e+03",
          "1.396970000000000027e+03",
          "1.399500000000000000e+03",
          "1.402039999999999964e+03",
          "1.404569999999999936e+03",
          "1.407099999999999909e+03",
          "1.409630000000000109e+03",
          "1.412160000000000082e+03",
          "1.414690000000000055e+03",
          "1.417220000000000027e+03",
          "1.419750000000000000e+03",
          "1.422279999999999973e+03",
          "1.424809999999999945e+03",
          "1.427329999999999927e+03",
          "1.429859999999999900e+03",
          "1.432380000000000109e+03",
          "1.434900000000000091e+03",
          "1.437430000000000064e+03",
          "1.439950000000000045e+03",
          "1.442470000000000027e+03",
          "1.444990000000000009e+03",
          "1.447509999999999991e+03",
          "1.450029999999999973e+03",
          "1.452549999999999955e+03",
          "1.455059999999999945e+03",
          "1.457579999999999927e+03",
          "1.460099999999999909e+03",
          "1.462609999999999900e+03",
          "1.465130000000000109e+03",
          "1.467640000000000100e+03",
          "1.470150000000000091e+03",
          "1.472660000000000082e+03",
          "1.475170000000000073e+03",
          "1.477680000000000064e+03",
          "1.480190000000000055e+03",
          "1.482700000000000045e+03",
          "1.485210000000000036e+03",
          "1.487720000000000027e+03",
          "1.490220000000000027e+03",
          "1.492730000000000018e+03",
          "1.495230000000000018e+03",
          "1.497740000000000009e+03",
          "1.500240000000000009e+03",
          "1.502740000000000009e+03",
          "1.505240000000000009e+03",
          "1.507750000000000000e+03",
          "1.510250000000000000e+03",
          "1.512740000000000009e+03",
          "1.515240000000000009e+03",
          "1.517740000000000009e+03",
          "1.520240000000000009e+03",
          "1.522730000000000018e+03",
          "1.525230000000000018e+03",
          "1.527720000000000027e+03",
          "1.530220000000000027e+03",
          "1.532710000000000036e+03",
          "1.535200000000000045e+03",
          "1.537690000000000055e+03",
          "1.540190000000000055e+03",
          "1.542680000000000064e+03",
          "1.545160000000000082e+03",
          "1.547650000000000091e+03",
          "1.550140000000000100e+03",
          "1.552630000000000109e+03",
          "1.555109999999999900e+03",
          "1.557599999999999909e+03",
          "1.560079999999999927e+03",
          "1.562569999999999936e+03",
          "1.565049999999999955e+03",
          "1.567529999999999973e+03",
          "1.570009999999999991e+03",
          "1.572500000000000000e+03",
          "1.574980000000000018e+03",
          "1.577450000000000045e+03",
          "1.579930000000000064e+03",
          "1.582410000000000082e+03",
          "1.584890000000000100e+03",
          "1.587359999999999900e+03",
          "1.589839999999999918e+03",
          "1.592309999999999945e+03",
          "1.594789999999999964e+03",
          "1.597259999999999991e+03",
          "1.599730000000000018e+03",
          "1.602200000000000045e+03",
          "1.604680000000000064e+03",
          "1.607150000000000091e+03",
          "1.609619999999999891e+03",
          "1.612079999999999927e+03",
          "1.614549999999999955e+03",
          "1.617019999999999982e+03",
          "1.619480000000000018e+03",
          "1.621950000000000045e+03",
          "1.624410000000000082e+03",
          "1.626880000000000109e+03",
          "1.629339999999999918e+03",
          "1.631799999999999955e+03",
          "1.634269999999999982e+03",
          "1.636730000000000018e+03",
          "1.639190000000000055e+03",
          "1.641650000000000091e+03",
          "1.644109999999999900e+03",
          "1.646559999999999945e+03",
          "1.649019999999999982e+03",
          "1.651480000000000018e+03",
          "1.653930000000000064e+03",
          "1.656390000000000100e+03",
          "1.658839999999999918e+03",
          "1.661289999999999964e+03",
          "1.663750000000000000e+03",
          "1.666200000000000045e+03",
          "1.668650000000000091e+03",
          "1.671099999999999909e+03",
          "1.673549999999999955e+03",
          "1.676000000000000000e+03",
          "1.678450000000000045e+03",
          "1.680890000000000100e+03",
          "1.683339999999999918e+03",
          "1.685789999999999964e+03",
          "1.688230000000000018e+03",
          "1.690680000000000064e+03",
          "1.693119999999999891e+03",
          "1.695559999999999945e+03",
          "1.698000000000000000e+03",
          "1.700450000000000045e+03",
          "1.702890000000000100e+03",
          "1.705329999999999927e+03",
          "1.707759999999999991e+03",
          "1.710200000000000045e+03",
          "1.712640000000000100e+03",
          "1.715079999999999927e+03",
          "1.717509999999999991e+03",
          "1.719950000000000045e+03",
          "1.722380000000000109e+03",
          "1.724819999999999936e+03",
          "1.727250000000000000e+03",
          "1.729680000000000064e+03",
          "1.732109999999999900e+03",
          "1.734539999999999964e+03",
          "1.736970000000000027e+03",
          "1.739400000000000091e+03",
          "1.741829999999999927e+03",
          "1.744259999999999991e+03",
          "1.746690000000000055e+03",
          "1.749109999999999900e+03",
          "1.751539999999999964e+03",
          "1.753960000000000036e+03",
          "1.756390000000000100e+03",
          "1.758809999999999945e+03",
          "1.761230000000000018e+03",
          "1.763660000000000082e+03",
          "1.766079999999999927e+03",
          "1.768500000000000000e+03",
          "1.770920000000000073e+03",
          "1.773339999999999918e+03",
          "1.775750000000000000e+03",
          "1.778170000000000073e+03",
          "1.780589999999999918e+03",
          "1.783000000000000000e+03",
          "1.785420000000000073e+03",
          "1.787829999999999927e+03",
          "1.790250000000000000e+03",
          "1.792660000000000082e+03",
          "1.795069999999999936e+03",
          "1.797480000000000018e+03",
          "1.799900000000000091e+03"
         ],
         "y": [
          1.12e-7,
          0.00047001,
          0.0027106,
          0,
          0.0078196,
          0.0087743,
          0.0097317,
          0.011607,
          0.0061602,
          0.01033,
          0.006262,
          0.005859,
          0.0077477,
          5.59e-8,
          0.0090861,
          0.008102,
          0.00712,
          0.010718,
          0.0083673,
          0.0032713,
          0.0055027,
          0.0095676,
          0.0090564,
          0.0090053,
          0.0075828,
          0.010283,
          0.0019976,
          0.0088227,
          0.007409,
          0.013323,
          0.014661,
          0.010049,
          0.0095602,
          0.0086158,
          0.011336,
          0.0094807,
          0.0039404,
          0.005254,
          0.0038228,
          0.0051407,
          0.0018826,
          8.38e-8,
          0.0034997,
          0.010206,
          0.0063839,
          0.0071245,
          0.0041892,
          0.005834,
          0.0061071,
          0.0082132,
          0.0048273,
          0.0083105,
          0.0085908,
          0.0033788,
          8.38e-8,
          0.00067931,
          0.0004445,
          0.0029583,
          0.0041004,
          0.0052441,
          0.012341,
          0.013031,
          0.0073119,
          0.0047998,
          0.0064098,
          0.0084793,
          0.0059723,
          0.0066718,
          0.0032525,
          0.0062184,
          0.0050596,
          0.010312,
          8.38e-8,
          0.0066293,
          0.0041037,
          0.0052424,
          0.0063828,
          0.0038622,
          0.0031746,
          0.0056935,
          0.0045514,
          0.0093628,
          0.011429,
          0.011208,
          0.0068676,
          0.0061919,
          0.0050601,
          0.0053035,
          0.0037173,
          0.0016749,
          0.0042126,
          0.0017159,
          0.0047148,
          0.0049685,
          0.010718,
          0.0073125,
          0.0080293,
          0.0046274,
          0.0080946,
          0.0060697,
          0.012745,
          0.0047721,
          0.011909,
          0.019963,
          0.014743,
          0.017764,
          0.011174,
          0.0077894,
          0.0094432,
          0.0069782,
          0.010467,
          0.0029695,
          0.0046304,
          0.010414,
          0.0097891,
          0.010998,
          0.011292,
          0.010216,
          0.010972,
          0.0053204,
          0.0051648,
          0.0040953,
          0.0030277,
          0.0051668,
          0.006392,
          0.010366,
          0.0079028,
          0.0068113,
          0.0043482,
          0.0078387,
          0.0049213,
          0.0056684,
          0.0036704,
          0.0025899,
          0.0033425,
          0.0082173,
          0.0039375,
          0.0088161,
          0.0031665,
          0.0062175,
          0.0042342,
          0.0040842,
          0.0043938,
          0.0065366,
          0.0063922,
          0.005334,
          0.0038198,
          0.0036811,
          0.0026286,
          0.0024936,
          0.0023606,
          0.00039817,
          0.0016425,
          0.0028887,
          0.00093208,
          0.0035557,
          0.0038921,
          0.0042304,
          0.0031973,
          0.0094913,
          0.0043417,
          0.0069771,
          5.59e-8,
          0.0056507,
          0.010845,
          0.0050532,
          0.0056724,
          0.0058354,
          0.0055422,
          0.0029614,
          0.0067917,
          0.0042141,
          0.0002646,
          0.0040997,
          0.0033581,
          0.0090277,
          0.0037111,
          0.0048056,
          0.0077331,
          0.005626,
          0.0044362,
          0.01332,
          0.013049,
          0.013238,
          0.014344,
          0.014993,
          0.013355,
          0.010803,
          0.0087107,
          0.0084512,
          0.0017837,
          0.0019852,
          0.0026462,
          0.0051401,
          0.0016839,
          0.00097635,
          0.0062221,
          0.0032288,
          0.002984,
          0.0082347,
          0.0029572,
          0.0045487,
          0.005684,
          0.0045319,
          0.002008,
          0.0077266,
          0.0024591,
          0.0013137,
          0.0047482,
          0.0077266,
          0.0088754,
          0.009568,
          0.006142,
          0.0082115,
          0.0084514,
          0.014187,
          0.012141,
          0.013302,
          0.014922,
          0.01105,
          0.012674,
          0.016131,
          0.017758,
          0.01664,
          0.013235,
          0.0052527,
          0.0073447,
          0.0044024,
          0.010618,
          0.0099686,
          0.010236,
          0.0086746,
          0.013066,
          0.0078455,
          0.009036,
          0.0061079,
          0.0049952,
          0.0061594,
          8.38e-8,
          0.0045438,
          0.0035952,
          0.0063106,
          0.0017022,
          0.0030471,
          0.0043934,
          0.0039099,
          0.0066326,
          0.0052364,
          0.0042995,
          0.0033641,
          0.0056348,
          0.0060758,
          0.006976,
          0.0051308,
          0.0064918,
          0.0041917,
          0.0032665,
          0.0032584,
          0.0050831,
          0.0073671,
          0.0055322,
          0.0087347,
          0.0069027,
          0.011024,
          0.016062,
          0.012861,
          0.011951,
          0.012415,
          0.010134,
          0.014264,
          0.012444,
          0.018866,
          0.017964,
          0.020726,
          0.024406,
          0.021677,
          0.022613,
          0.024465,
          0.025404,
          0.026801,
          0.020875,
          0.026854,
          0.02734,
          0.025539,
          0.022824,
          0.021026,
          0.024265,
          0.022927,
          0.025712,
          0.023004,
          0.019381,
          0.019423,
          0.017635,
          0.01768,
          0.021389,
          0.021895,
          0.019655,
          0.019248,
          0.022963,
          0.023474,
          0.023987,
          0.026791,
          0.021813,
          0.026908,
          0.026969,
          0.030694,
          0.032132,
          0.027161,
          0.02906,
          0.031875,
          0.026451,
          0.02469,
          0.027939,
          0.027528,
          0.02666,
          0.027167,
          0.024471,
          0.023607,
          0.019541,
          0.021885,
          0.019652,
          0.016506,
          0.013818,
          0.010675,
          0.010737,
          0.013548,
          0.0085776,
          0.012307,
          0.0077975,
          0.0074096,
          0.0056498,
          0.0080119,
          0.010375,
          0.0067888,
          0.010529,
          0.010608,
          0.0061099,
          0.0052761,
          0.0099377,
          0.0095648,
          0.0059886,
          0.010197,
          0.0093706,
          0.0062567,
          0.0068069,
          0.011021,
          0.0088275,
          0.0070931,
          0.010396,
          0.015074,
          0.011971,
          0.017568,
          0.015841,
          0.016863,
          0.01697,
          0.020284,
          0.024515,
          0.026458,
          0.028403,
          0.027602,
          0.028635,
          0.028753,
          0.025667,
          0.028536,
          0.024538,
          0.023288,
          0.022041,
          0.02171,
          0.017719,
          0.020138,
          0.02027,
          0.017656,
          0.022827,
          0.018843,
          0.011198,
          0.01088,
          0.0069008,
          0.0061279,
          0.0044408,
          0.0022974,
          0.0024447,
          0.0030515,
          0.0036598,
          0.0033539,
          0.002134,
          5.59e-8,
          0.0023891,
          0.003864,
          0.0080873,
          0.0072761,
          0.0069242,
          0.0042847,
          0.0075985,
          0.0090825,
          0.0059897,
          0.0079345,
          0.0071339,
          0.0090818,
          0.0096577,
          0.013898,
          0.014019,
          0.014599,
          0.014724,
          0.018512,
          0.022302,
          0.022431,
          0.02897,
          0.030934,
          0.031067,
          0.031202,
          0.034543,
          0.034223,
          0.029327,
          0.029468,
          0.032358,
          0.032502,
          0.034021,
          0.035084,
          0.03157,
          0.038131,
          0.037825,
          0.037063,
          0.038133,
          0.041953,
          0.046689,
          0.048223,
          0.049757,
          0.048547,
          0.050085,
          0.052998,
          0.054082,
          0.055167,
          0.060374,
          0.059173,
          0.059347,
          0.064101,
          0.063362,
          0.069951,
          0.0683,
          0.066651,
          0.066376,
          0.063815,
          0.069496,
          0.063275,
          0.067127,
          0.067777,
          0.065223,
          0.061756,
          0.060121,
          0.054825,
          0.055483,
          0.046986,
          0.043526,
          0.043273,
          0.040275,
          0.038652,
          0.033368,
          0.034495,
          0.02784,
          0.025766,
          0.024151,
          0.023453,
          0.020468,
          0.0184,
          0.016792,
          0.015186,
          0.015412,
          0.014724,
          0.011291,
          0.0096916,
          0.0080934,
          0.009244,
          0.0090226,
          0.0092609,
          0.006296,
          0.0060799,
          0.0040341,
          0.0051751,
          0.0058493,
          0.0046938,
          0.0026244,
          0.0037614,
          0.0035266,
          0.0028356,
          0.0053512,
          0.0037479,
          0.003062,
          0.0023778,
          0.0016953,
          0.0014723,
          0.001251,
          0.0014892,
          0.0026449,
          0.0047178,
          0.0017564,
          0.0033749,
          0.0022482,
          0.0038703,
          8.38e-8,
          0.0010461
         ]
        }
       ],
       "layout": {
        "template": {
         "data": {
          "bar": [
           {
            "error_x": {
             "color": "#2a3f5f"
            },
            "error_y": {
             "color": "#2a3f5f"
            },
            "marker": {
             "line": {
              "color": "#E5ECF6",
              "width": 0.5
             },
             "pattern": {
              "fillmode": "overlay",
              "size": 10,
              "solidity": 0.2
             }
            },
            "type": "bar"
           }
          ],
          "barpolar": [
           {
            "marker": {
             "line": {
              "color": "#E5ECF6",
              "width": 0.5
             },
             "pattern": {
              "fillmode": "overlay",
              "size": 10,
              "solidity": 0.2
             }
            },
            "type": "barpolar"
           }
          ],
          "carpet": [
           {
            "aaxis": {
             "endlinecolor": "#2a3f5f",
             "gridcolor": "white",
             "linecolor": "white",
             "minorgridcolor": "white",
             "startlinecolor": "#2a3f5f"
            },
            "baxis": {
             "endlinecolor": "#2a3f5f",
             "gridcolor": "white",
             "linecolor": "white",
             "minorgridcolor": "white",
             "startlinecolor": "#2a3f5f"
            },
            "type": "carpet"
           }
          ],
          "choropleth": [
           {
            "colorbar": {
             "outlinewidth": 0,
             "ticks": ""
            },
            "type": "choropleth"
           }
          ],
          "contour": [
           {
            "colorbar": {
             "outlinewidth": 0,
             "ticks": ""
            },
            "colorscale": [
             [
              0,
              "#0d0887"
             ],
             [
              0.1111111111111111,
              "#46039f"
             ],
             [
              0.2222222222222222,
              "#7201a8"
             ],
             [
              0.3333333333333333,
              "#9c179e"
             ],
             [
              0.4444444444444444,
              "#bd3786"
             ],
             [
              0.5555555555555556,
              "#d8576b"
             ],
             [
              0.6666666666666666,
              "#ed7953"
             ],
             [
              0.7777777777777778,
              "#fb9f3a"
             ],
             [
              0.8888888888888888,
              "#fdca26"
             ],
             [
              1,
              "#f0f921"
             ]
            ],
            "type": "contour"
           }
          ],
          "contourcarpet": [
           {
            "colorbar": {
             "outlinewidth": 0,
             "ticks": ""
            },
            "type": "contourcarpet"
           }
          ],
          "heatmap": [
           {
            "colorbar": {
             "outlinewidth": 0,
             "ticks": ""
            },
            "colorscale": [
             [
              0,
              "#0d0887"
             ],
             [
              0.1111111111111111,
              "#46039f"
             ],
             [
              0.2222222222222222,
              "#7201a8"
             ],
             [
              0.3333333333333333,
              "#9c179e"
             ],
             [
              0.4444444444444444,
              "#bd3786"
             ],
             [
              0.5555555555555556,
              "#d8576b"
             ],
             [
              0.6666666666666666,
              "#ed7953"
             ],
             [
              0.7777777777777778,
              "#fb9f3a"
             ],
             [
              0.8888888888888888,
              "#fdca26"
             ],
             [
              1,
              "#f0f921"
             ]
            ],
            "type": "heatmap"
           }
          ],
          "heatmapgl": [
           {
            "colorbar": {
             "outlinewidth": 0,
             "ticks": ""
            },
            "colorscale": [
             [
              0,
              "#0d0887"
             ],
             [
              0.1111111111111111,
              "#46039f"
             ],
             [
              0.2222222222222222,
              "#7201a8"
             ],
             [
              0.3333333333333333,
              "#9c179e"
             ],
             [
              0.4444444444444444,
              "#bd3786"
             ],
             [
              0.5555555555555556,
              "#d8576b"
             ],
             [
              0.6666666666666666,
              "#ed7953"
             ],
             [
              0.7777777777777778,
              "#fb9f3a"
             ],
             [
              0.8888888888888888,
              "#fdca26"
             ],
             [
              1,
              "#f0f921"
             ]
            ],
            "type": "heatmapgl"
           }
          ],
          "histogram": [
           {
            "marker": {
             "pattern": {
              "fillmode": "overlay",
              "size": 10,
              "solidity": 0.2
             }
            },
            "type": "histogram"
           }
          ],
          "histogram2d": [
           {
            "colorbar": {
             "outlinewidth": 0,
             "ticks": ""
            },
            "colorscale": [
             [
              0,
              "#0d0887"
             ],
             [
              0.1111111111111111,
              "#46039f"
             ],
             [
              0.2222222222222222,
              "#7201a8"
             ],
             [
              0.3333333333333333,
              "#9c179e"
             ],
             [
              0.4444444444444444,
              "#bd3786"
             ],
             [
              0.5555555555555556,
              "#d8576b"
             ],
             [
              0.6666666666666666,
              "#ed7953"
             ],
             [
              0.7777777777777778,
              "#fb9f3a"
             ],
             [
              0.8888888888888888,
              "#fdca26"
             ],
             [
              1,
              "#f0f921"
             ]
            ],
            "type": "histogram2d"
           }
          ],
          "histogram2dcontour": [
           {
            "colorbar": {
             "outlinewidth": 0,
             "ticks": ""
            },
            "colorscale": [
             [
              0,
              "#0d0887"
             ],
             [
              0.1111111111111111,
              "#46039f"
             ],
             [
              0.2222222222222222,
              "#7201a8"
             ],
             [
              0.3333333333333333,
              "#9c179e"
             ],
             [
              0.4444444444444444,
              "#bd3786"
             ],
             [
              0.5555555555555556,
              "#d8576b"
             ],
             [
              0.6666666666666666,
              "#ed7953"
             ],
             [
              0.7777777777777778,
              "#fb9f3a"
             ],
             [
              0.8888888888888888,
              "#fdca26"
             ],
             [
              1,
              "#f0f921"
             ]
            ],
            "type": "histogram2dcontour"
           }
          ],
          "mesh3d": [
           {
            "colorbar": {
             "outlinewidth": 0,
             "ticks": ""
            },
            "type": "mesh3d"
           }
          ],
          "parcoords": [
           {
            "line": {
             "colorbar": {
              "outlinewidth": 0,
              "ticks": ""
             }
            },
            "type": "parcoords"
           }
          ],
          "pie": [
           {
            "automargin": true,
            "type": "pie"
           }
          ],
          "scatter": [
           {
            "marker": {
             "colorbar": {
              "outlinewidth": 0,
              "ticks": ""
             }
            },
            "type": "scatter"
           }
          ],
          "scatter3d": [
           {
            "line": {
             "colorbar": {
              "outlinewidth": 0,
              "ticks": ""
             }
            },
            "marker": {
             "colorbar": {
              "outlinewidth": 0,
              "ticks": ""
             }
            },
            "type": "scatter3d"
           }
          ],
          "scattercarpet": [
           {
            "marker": {
             "colorbar": {
              "outlinewidth": 0,
              "ticks": ""
             }
            },
            "type": "scattercarpet"
           }
          ],
          "scattergeo": [
           {
            "marker": {
             "colorbar": {
              "outlinewidth": 0,
              "ticks": ""
             }
            },
            "type": "scattergeo"
           }
          ],
          "scattergl": [
           {
            "marker": {
             "colorbar": {
              "outlinewidth": 0,
              "ticks": ""
             }
            },
            "type": "scattergl"
           }
          ],
          "scattermapbox": [
           {
            "marker": {
             "colorbar": {
              "outlinewidth": 0,
              "ticks": ""
             }
            },
            "type": "scattermapbox"
           }
          ],
          "scatterpolar": [
           {
            "marker": {
             "colorbar": {
              "outlinewidth": 0,
              "ticks": ""
             }
            },
            "type": "scatterpolar"
           }
          ],
          "scatterpolargl": [
           {
            "marker": {
             "colorbar": {
              "outlinewidth": 0,
              "ticks": ""
             }
            },
            "type": "scatterpolargl"
           }
          ],
          "scatterternary": [
           {
            "marker": {
             "colorbar": {
              "outlinewidth": 0,
              "ticks": ""
             }
            },
            "type": "scatterternary"
           }
          ],
          "surface": [
           {
            "colorbar": {
             "outlinewidth": 0,
             "ticks": ""
            },
            "colorscale": [
             [
              0,
              "#0d0887"
             ],
             [
              0.1111111111111111,
              "#46039f"
             ],
             [
              0.2222222222222222,
              "#7201a8"
             ],
             [
              0.3333333333333333,
              "#9c179e"
             ],
             [
              0.4444444444444444,
              "#bd3786"
             ],
             [
              0.5555555555555556,
              "#d8576b"
             ],
             [
              0.6666666666666666,
              "#ed7953"
             ],
             [
              0.7777777777777778,
              "#fb9f3a"
             ],
             [
              0.8888888888888888,
              "#fdca26"
             ],
             [
              1,
              "#f0f921"
             ]
            ],
            "type": "surface"
           }
          ],
          "table": [
           {
            "cells": {
             "fill": {
              "color": "#EBF0F8"
             },
             "line": {
              "color": "white"
             }
            },
            "header": {
             "fill": {
              "color": "#C8D4E3"
             },
             "line": {
              "color": "white"
             }
            },
            "type": "table"
           }
          ]
         },
         "layout": {
          "annotationdefaults": {
           "arrowcolor": "#2a3f5f",
           "arrowhead": 0,
           "arrowwidth": 1
          },
          "autotypenumbers": "strict",
          "coloraxis": {
           "colorbar": {
            "outlinewidth": 0,
            "ticks": ""
           }
          },
          "colorscale": {
           "diverging": [
            [
             0,
             "#8e0152"
            ],
            [
             0.1,
             "#c51b7d"
            ],
            [
             0.2,
             "#de77ae"
            ],
            [
             0.3,
             "#f1b6da"
            ],
            [
             0.4,
             "#fde0ef"
            ],
            [
             0.5,
             "#f7f7f7"
            ],
            [
             0.6,
             "#e6f5d0"
            ],
            [
             0.7,
             "#b8e186"
            ],
            [
             0.8,
             "#7fbc41"
            ],
            [
             0.9,
             "#4d9221"
            ],
            [
             1,
             "#276419"
            ]
           ],
           "sequential": [
            [
             0,
             "#0d0887"
            ],
            [
             0.1111111111111111,
             "#46039f"
            ],
            [
             0.2222222222222222,
             "#7201a8"
            ],
            [
             0.3333333333333333,
             "#9c179e"
            ],
            [
             0.4444444444444444,
             "#bd3786"
            ],
            [
             0.5555555555555556,
             "#d8576b"
            ],
            [
             0.6666666666666666,
             "#ed7953"
            ],
            [
             0.7777777777777778,
             "#fb9f3a"
            ],
            [
             0.8888888888888888,
             "#fdca26"
            ],
            [
             1,
             "#f0f921"
            ]
           ],
           "sequentialminus": [
            [
             0,
             "#0d0887"
            ],
            [
             0.1111111111111111,
             "#46039f"
            ],
            [
             0.2222222222222222,
             "#7201a8"
            ],
            [
             0.3333333333333333,
             "#9c179e"
            ],
            [
             0.4444444444444444,
             "#bd3786"
            ],
            [
             0.5555555555555556,
             "#d8576b"
            ],
            [
             0.6666666666666666,
             "#ed7953"
            ],
            [
             0.7777777777777778,
             "#fb9f3a"
            ],
            [
             0.8888888888888888,
             "#fdca26"
            ],
            [
             1,
             "#f0f921"
            ]
           ]
          },
          "colorway": [
           "#636efa",
           "#EF553B",
           "#00cc96",
           "#ab63fa",
           "#FFA15A",
           "#19d3f3",
           "#FF6692",
           "#B6E880",
           "#FF97FF",
           "#FECB52"
          ],
          "font": {
           "color": "#2a3f5f"
          },
          "geo": {
           "bgcolor": "white",
           "lakecolor": "white",
           "landcolor": "#E5ECF6",
           "showlakes": true,
           "showland": true,
           "subunitcolor": "white"
          },
          "hoverlabel": {
           "align": "left"
          },
          "hovermode": "closest",
          "mapbox": {
           "style": "light"
          },
          "paper_bgcolor": "white",
          "plot_bgcolor": "#E5ECF6",
          "polar": {
           "angularaxis": {
            "gridcolor": "white",
            "linecolor": "white",
            "ticks": ""
           },
           "bgcolor": "#E5ECF6",
           "radialaxis": {
            "gridcolor": "white",
            "linecolor": "white",
            "ticks": ""
           }
          },
          "scene": {
           "xaxis": {
            "backgroundcolor": "#E5ECF6",
            "gridcolor": "white",
            "gridwidth": 2,
            "linecolor": "white",
            "showbackground": true,
            "ticks": "",
            "zerolinecolor": "white"
           },
           "yaxis": {
            "backgroundcolor": "#E5ECF6",
            "gridcolor": "white",
            "gridwidth": 2,
            "linecolor": "white",
            "showbackground": true,
            "ticks": "",
            "zerolinecolor": "white"
           },
           "zaxis": {
            "backgroundcolor": "#E5ECF6",
            "gridcolor": "white",
            "gridwidth": 2,
            "linecolor": "white",
            "showbackground": true,
            "ticks": "",
            "zerolinecolor": "white"
           }
          },
          "shapedefaults": {
           "line": {
            "color": "#2a3f5f"
           }
          },
          "ternary": {
           "aaxis": {
            "gridcolor": "white",
            "linecolor": "white",
            "ticks": ""
           },
           "baxis": {
            "gridcolor": "white",
            "linecolor": "white",
            "ticks": ""
           },
           "bgcolor": "#E5ECF6",
           "caxis": {
            "gridcolor": "white",
            "linecolor": "white",
            "ticks": ""
           }
          },
          "title": {
           "x": 0.05
          },
          "xaxis": {
           "automargin": true,
           "gridcolor": "white",
           "linecolor": "white",
           "ticks": "",
           "title": {
            "standoff": 15
           },
           "zerolinecolor": "white",
           "zerolinewidth": 2
          },
          "yaxis": {
           "automargin": true,
           "gridcolor": "white",
           "linecolor": "white",
           "ticks": "",
           "title": {
            "standoff": 15
           },
           "zerolinecolor": "white",
           "zerolinewidth": 2
          }
         }
        },
        "title": {
         "text": "Raman Spectra of Breast Cancer Cells (High SNR)"
        },
        "xaxis": {
         "title": {
          "text": "Ramam Shift (cm^-1)"
         }
        },
        "yaxis": {
         "title": {
          "text": "Intensity"
         }
        }
       }
      }
     },
     "metadata": {},
     "output_type": "display_data"
    }
   ],
   "source": [
    "import pandas as pd\n",
    "import plotly.graph_objects as go\n",
    "import plotly.express as px\n",
    "\n",
    "# Load the data from the provided CSV file\n",
    "file_path = 'Project datasets/Sample files/train_outputs_50_with_shifts.csv'\n",
    "data = pd.read_csv(file_path)\n",
    "\n",
    "# Create a line plot for a few samples\n",
    "fig = go.Figure()\n",
    "\n",
    "# Sample a few rows for visualization\n",
    "sample_indices = [0]  # You can choose other indices or more indices\n",
    "for idx in sample_indices:\n",
    "    fig.add_trace(go.Scatter(x=data.columns , y=data.iloc[idx], mode='lines', name=f'Sample {idx}'))\n",
    "\n",
    "fig.update_layout(\n",
    "    title='Raman Spectra of Breast Cancer Cells (High SNR)',\n",
    "    xaxis_title='Ramam Shift (cm^-1)',\n",
    "    yaxis_title='Intensity'\n",
    ")\n",
    "\n",
    "fig.show()"
   ]
  }
 ],
 "metadata": {
  "kernelspec": {
   "display_name": "base",
   "language": "python",
   "name": "python3"
  },
  "language_info": {
   "codemirror_mode": {
    "name": "ipython",
    "version": 3
   },
   "file_extension": ".py",
   "mimetype": "text/x-python",
   "name": "python",
   "nbconvert_exporter": "python",
   "pygments_lexer": "ipython3",
   "version": "3.9.12"
  }
 },
 "nbformat": 4,
 "nbformat_minor": 2
}
