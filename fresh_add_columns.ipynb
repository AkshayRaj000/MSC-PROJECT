{
 "cells": [
  {
   "cell_type": "code",
   "execution_count": 2,
   "metadata": {},
   "outputs": [
    {
     "name": "stdout",
     "output_type": "stream",
     "text": [
      "Raman shifts added as column names successfully!\n"
     ]
    }
   ],
   "source": [
    "import pandas as pd\n",
    "\n",
    "# Step 1: Load Raman shifts from the .txt file\n",
    "with open('Project datasets/axis.txt', 'r') as file:\n",
    "    raman_shifts = [line.strip() for line in file]\n",
    "\n",
    "# Step 2: Load your existing CSV file\n",
    "df = pd.read_csv('Project datasets/Sample files/train_outputs_50.csv', header=None)\n",
    "\n",
    "# Step 3: Assign Raman shifts as column names\n",
    "df.columns = raman_shifts\n",
    "\n",
    "# Step 4: Save the updated DataFrame to a new CSV file\n",
    "df.to_csv('Project datasets/Sample files/train_outputs_50_with_shifts.csv', index=False)\n",
    "\n",
    "print(\"Raman shifts added as column names successfully!\")\n"
   ]
  },
  {
   "cell_type": "markdown",
   "metadata": {},
   "source": [
    "##### Do the same for all the other files"
   ]
  },
  {
   "cell_type": "code",
   "execution_count": null,
   "metadata": {},
   "outputs": [
    {
     "name": "stdout",
     "output_type": "stream",
     "text": [
      "Raman shifts added as column names successfully!\n"
     ]
    }
   ],
   "source": [
    "# train_inputs_50\n",
    "\n",
    "# Load your existing CSV file\n",
    "df = pd.read_csv('Project datasets/Sample files/train_inputs_50.csv', header=None)\n",
    "\n",
    "# Assign Raman shifts as column names\n",
    "df.columns = raman_shifts\n",
    "\n",
    "# Step 4: Save the updated DataFrame to a new CSV file\n",
    "df.to_csv('Project datasets/Sample files/train_inputs_50_with_shifts.csv', index=False)\n",
    "\n",
    "print(\"Raman shifts added as column names successfully!\")"
   ]
  },
  {
   "cell_type": "code",
   "execution_count": 4,
   "metadata": {},
   "outputs": [
    {
     "name": "stdout",
     "output_type": "stream",
     "text": [
      "Raman shifts added as column names successfully!\n"
     ]
    }
   ],
   "source": [
    "# test_inputs_50\n",
    "\n",
    "# Load your existing CSV file\n",
    "df = pd.read_csv('Project datasets/Sample files/test_inputs_50.csv', header=None)\n",
    "\n",
    "# Assign Raman shifts as column names\n",
    "df.columns = raman_shifts\n",
    "\n",
    "# Step 4: Save the updated DataFrame to a new CSV file\n",
    "df.to_csv('Project datasets/Sample files/test_inputs_50_with_shifts.csv', index=False)\n",
    "\n",
    "print(\"Raman shifts added as column names successfully!\")"
   ]
  },
  {
   "cell_type": "code",
   "execution_count": 5,
   "metadata": {},
   "outputs": [
    {
     "name": "stdout",
     "output_type": "stream",
     "text": [
      "Raman shifts added as column names successfully!\n"
     ]
    }
   ],
   "source": [
    "# test_outputs_50\n",
    "\n",
    "# Load your existing CSV file\n",
    "df = pd.read_csv('Project datasets/Sample files/test_outputs_50.csv', header=None)\n",
    "\n",
    "# Assign Raman shifts as column names\n",
    "df.columns = raman_shifts\n",
    "\n",
    "# Step 4: Save the updated DataFrame to a new CSV file\n",
    "df.to_csv('Project datasets/Sample files/test_outputs_50_with_shifts.csv', index=False)\n",
    "\n",
    "print(\"Raman shifts added as column names successfully!\")"
   ]
  },
  {
   "cell_type": "markdown",
   "metadata": {},
   "source": [
    "#### Do the same for the big datasets"
   ]
  },
  {
   "cell_type": "code",
   "execution_count": 6,
   "metadata": {},
   "outputs": [
    {
     "name": "stdout",
     "output_type": "stream",
     "text": [
      "Raman shifts added as column names successfully!\n"
     ]
    }
   ],
   "source": [
    "# train_inputs\n",
    "\n",
    "# Load your existing CSV file\n",
    "df = pd.read_csv('Project datasets\\Train_Inputs.csv', header=None)\n",
    "\n",
    "# Assign Raman shifts as column names\n",
    "df.columns = raman_shifts\n",
    "\n",
    "# Step 4: Save the updated DataFrame to a new CSV file\n",
    "df.to_csv('Project datasets\\Train_Inputs_with_shifts.csv', index=False)\n",
    "\n",
    "print(\"Raman shifts added as column names successfully!\")"
   ]
  },
  {
   "cell_type": "code",
   "execution_count": 7,
   "metadata": {},
   "outputs": [
    {
     "name": "stdout",
     "output_type": "stream",
     "text": [
      "Raman shifts added as column names successfully!\n"
     ]
    }
   ],
   "source": [
    "# train_outputs\n",
    "\n",
    "# Load your existing CSV file\n",
    "df = pd.read_csv('Project datasets\\Train_Outputs.csv', header=None)\n",
    "\n",
    "# Assign Raman shifts as column names\n",
    "df.columns = raman_shifts\n",
    "\n",
    "# Step 4: Save the updated DataFrame to a new CSV file\n",
    "df.to_csv('Project datasets\\Train_Outputs_with_shifts.csv', index=False)\n",
    "\n",
    "print(\"Raman shifts added as column names successfully!\")"
   ]
  },
  {
   "cell_type": "code",
   "execution_count": 8,
   "metadata": {},
   "outputs": [
    {
     "name": "stdout",
     "output_type": "stream",
     "text": [
      "Raman shifts added as column names successfully!\n"
     ]
    }
   ],
   "source": [
    "# test_inputs\n",
    "\n",
    "# Load your existing CSV file\n",
    "df = pd.read_csv('Project datasets\\Test_Inputs.csv', header=None)\n",
    "\n",
    "# Assign Raman shifts as column names\n",
    "df.columns = raman_shifts\n",
    "\n",
    "# Step 4: Save the updated DataFrame to a new CSV file\n",
    "df.to_csv('Project datasets\\Test_Inputs_with_shifts.csv', index=False)\n",
    "\n",
    "print(\"Raman shifts added as column names successfully!\")"
   ]
  },
  {
   "cell_type": "code",
   "execution_count": 9,
   "metadata": {},
   "outputs": [
    {
     "name": "stdout",
     "output_type": "stream",
     "text": [
      "Raman shifts added as column names successfully!\n"
     ]
    }
   ],
   "source": [
    "# test_otputs\n",
    "\n",
    "# Load your existing CSV file\n",
    "df = pd.read_csv('Project datasets\\Test_Outputs.csv', header=None)\n",
    "\n",
    "# Assign Raman shifts as column names\n",
    "df.columns = raman_shifts\n",
    "\n",
    "# Step 4: Save the updated DataFrame to a new CSV file\n",
    "df.to_csv('Project datasets\\Test_Outputs_with_shifts.csv', index=False)\n",
    "\n",
    "print(\"Raman shifts added as column names successfully!\")"
   ]
  },
  {
   "cell_type": "code",
   "execution_count": null,
   "metadata": {},
   "outputs": [],
   "source": []
  }
 ],
 "metadata": {
  "kernelspec": {
   "display_name": "base",
   "language": "python",
   "name": "python3"
  },
  "language_info": {
   "codemirror_mode": {
    "name": "ipython",
    "version": 3
   },
   "file_extension": ".py",
   "mimetype": "text/x-python",
   "name": "python",
   "nbconvert_exporter": "python",
   "pygments_lexer": "ipython3",
   "version": "3.9.12"
  }
 },
 "nbformat": 4,
 "nbformat_minor": 2
}
