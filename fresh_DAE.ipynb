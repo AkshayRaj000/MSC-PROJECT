{
 "cells": [
  {
   "cell_type": "markdown",
   "metadata": {},
   "source": [
    "### DENOISING AUTOENCODER MODEL"
   ]
  },
  {
   "cell_type": "markdown",
   "metadata": {},
   "source": [
    "#### Load and Prepare the data"
   ]
  },
  {
   "cell_type": "code",
   "execution_count": 2,
   "metadata": {},
   "outputs": [
    {
     "data": {
      "text/html": [
       "<div>\n",
       "<style scoped>\n",
       "    .dataframe tbody tr th:only-of-type {\n",
       "        vertical-align: middle;\n",
       "    }\n",
       "\n",
       "    .dataframe tbody tr th {\n",
       "        vertical-align: top;\n",
       "    }\n",
       "\n",
       "    .dataframe thead th {\n",
       "        text-align: right;\n",
       "    }\n",
       "</style>\n",
       "<table border=\"1\" class=\"dataframe\">\n",
       "  <thead>\n",
       "    <tr style=\"text-align: right;\">\n",
       "      <th></th>\n",
       "      <th>0</th>\n",
       "      <th>1</th>\n",
       "      <th>2</th>\n",
       "      <th>3</th>\n",
       "      <th>4</th>\n",
       "      <th>5</th>\n",
       "      <th>6</th>\n",
       "      <th>7</th>\n",
       "      <th>8</th>\n",
       "      <th>9</th>\n",
       "      <th>...</th>\n",
       "      <th>490</th>\n",
       "      <th>491</th>\n",
       "      <th>492</th>\n",
       "      <th>493</th>\n",
       "      <th>494</th>\n",
       "      <th>495</th>\n",
       "      <th>496</th>\n",
       "      <th>497</th>\n",
       "      <th>498</th>\n",
       "      <th>499</th>\n",
       "    </tr>\n",
       "  </thead>\n",
       "  <tbody>\n",
       "    <tr>\n",
       "      <th>0</th>\n",
       "      <td>7.870000e-07</td>\n",
       "      <td>0.066955</td>\n",
       "      <td>5.071800e-03</td>\n",
       "      <td>0.020617</td>\n",
       "      <td>0.010468</td>\n",
       "      <td>0.013307</td>\n",
       "      <td>0.042037</td>\n",
       "      <td>0.057356</td>\n",
       "      <td>0.008097</td>\n",
       "      <td>0.049136</td>\n",
       "      <td>...</td>\n",
       "      <td>0.038622</td>\n",
       "      <td>0.038629</td>\n",
       "      <td>0.038639</td>\n",
       "      <td>0.064431</td>\n",
       "      <td>0.012879</td>\n",
       "      <td>7.870000e-07</td>\n",
       "      <td>0.064418</td>\n",
       "      <td>0.077272</td>\n",
       "      <td>0.025672</td>\n",
       "      <td>0.038529</td>\n",
       "    </tr>\n",
       "    <tr>\n",
       "      <th>1</th>\n",
       "      <td>1.349200e-01</td>\n",
       "      <td>0.142860</td>\n",
       "      <td>1.031700e-01</td>\n",
       "      <td>0.103170</td>\n",
       "      <td>0.087302</td>\n",
       "      <td>0.103170</td>\n",
       "      <td>0.103170</td>\n",
       "      <td>0.087302</td>\n",
       "      <td>0.111110</td>\n",
       "      <td>0.079365</td>\n",
       "      <td>...</td>\n",
       "      <td>0.031746</td>\n",
       "      <td>0.015873</td>\n",
       "      <td>0.031746</td>\n",
       "      <td>0.031746</td>\n",
       "      <td>0.031746</td>\n",
       "      <td>1.587300e-02</td>\n",
       "      <td>0.023810</td>\n",
       "      <td>0.031746</td>\n",
       "      <td>0.039683</td>\n",
       "      <td>0.023810</td>\n",
       "    </tr>\n",
       "    <tr>\n",
       "      <th>2</th>\n",
       "      <td>7.240000e-07</td>\n",
       "      <td>0.044917</td>\n",
       "      <td>7.240000e-07</td>\n",
       "      <td>0.013614</td>\n",
       "      <td>0.026990</td>\n",
       "      <td>0.016517</td>\n",
       "      <td>0.029796</td>\n",
       "      <td>0.054960</td>\n",
       "      <td>0.044535</td>\n",
       "      <td>0.045996</td>\n",
       "      <td>...</td>\n",
       "      <td>0.018942</td>\n",
       "      <td>0.030949</td>\n",
       "      <td>0.031089</td>\n",
       "      <td>0.031230</td>\n",
       "      <td>0.031373</td>\n",
       "      <td>1.964800e-02</td>\n",
       "      <td>0.043530</td>\n",
       "      <td>0.043677</td>\n",
       "      <td>0.031958</td>\n",
       "      <td>0.032108</td>\n",
       "    </tr>\n",
       "    <tr>\n",
       "      <th>3</th>\n",
       "      <td>1.212100e-01</td>\n",
       "      <td>0.121210</td>\n",
       "      <td>1.313100e-01</td>\n",
       "      <td>0.121210</td>\n",
       "      <td>0.090909</td>\n",
       "      <td>0.111110</td>\n",
       "      <td>0.080808</td>\n",
       "      <td>0.101010</td>\n",
       "      <td>0.141410</td>\n",
       "      <td>0.101010</td>\n",
       "      <td>...</td>\n",
       "      <td>0.020202</td>\n",
       "      <td>0.040404</td>\n",
       "      <td>0.040404</td>\n",
       "      <td>0.040404</td>\n",
       "      <td>0.030303</td>\n",
       "      <td>3.030300e-02</td>\n",
       "      <td>0.040404</td>\n",
       "      <td>0.020202</td>\n",
       "      <td>0.010101</td>\n",
       "      <td>0.030303</td>\n",
       "    </tr>\n",
       "    <tr>\n",
       "      <th>4</th>\n",
       "      <td>1.078400e-01</td>\n",
       "      <td>0.117650</td>\n",
       "      <td>1.078400e-01</td>\n",
       "      <td>0.058824</td>\n",
       "      <td>0.107840</td>\n",
       "      <td>0.117650</td>\n",
       "      <td>0.117650</td>\n",
       "      <td>0.098039</td>\n",
       "      <td>0.117650</td>\n",
       "      <td>0.107840</td>\n",
       "      <td>...</td>\n",
       "      <td>0.019608</td>\n",
       "      <td>0.019608</td>\n",
       "      <td>0.009804</td>\n",
       "      <td>0.039216</td>\n",
       "      <td>0.019608</td>\n",
       "      <td>3.921600e-02</td>\n",
       "      <td>0.029412</td>\n",
       "      <td>0.029412</td>\n",
       "      <td>0.049020</td>\n",
       "      <td>0.049020</td>\n",
       "    </tr>\n",
       "  </tbody>\n",
       "</table>\n",
       "<p>5 rows × 500 columns</p>\n",
       "</div>"
      ],
      "text/plain": [
       "            0         1             2         3         4         5    \\\n",
       "0  7.870000e-07  0.066955  5.071800e-03  0.020617  0.010468  0.013307   \n",
       "1  1.349200e-01  0.142860  1.031700e-01  0.103170  0.087302  0.103170   \n",
       "2  7.240000e-07  0.044917  7.240000e-07  0.013614  0.026990  0.016517   \n",
       "3  1.212100e-01  0.121210  1.313100e-01  0.121210  0.090909  0.111110   \n",
       "4  1.078400e-01  0.117650  1.078400e-01  0.058824  0.107840  0.117650   \n",
       "\n",
       "        6         7         8         9    ...       490       491       492  \\\n",
       "0  0.042037  0.057356  0.008097  0.049136  ...  0.038622  0.038629  0.038639   \n",
       "1  0.103170  0.087302  0.111110  0.079365  ...  0.031746  0.015873  0.031746   \n",
       "2  0.029796  0.054960  0.044535  0.045996  ...  0.018942  0.030949  0.031089   \n",
       "3  0.080808  0.101010  0.141410  0.101010  ...  0.020202  0.040404  0.040404   \n",
       "4  0.117650  0.098039  0.117650  0.107840  ...  0.019608  0.019608  0.009804   \n",
       "\n",
       "        493       494           495       496       497       498       499  \n",
       "0  0.064431  0.012879  7.870000e-07  0.064418  0.077272  0.025672  0.038529  \n",
       "1  0.031746  0.031746  1.587300e-02  0.023810  0.031746  0.039683  0.023810  \n",
       "2  0.031230  0.031373  1.964800e-02  0.043530  0.043677  0.031958  0.032108  \n",
       "3  0.040404  0.030303  3.030300e-02  0.040404  0.020202  0.010101  0.030303  \n",
       "4  0.039216  0.019608  3.921600e-02  0.029412  0.029412  0.049020  0.049020  \n",
       "\n",
       "[5 rows x 500 columns]"
      ]
     },
     "execution_count": 2,
     "metadata": {},
     "output_type": "execute_result"
    }
   ],
   "source": [
    "import pandas as pd\n",
    "\n",
    "file_path = 'Project datasets/Sample files/train_inputs_50.csv'\n",
    "df = pd.read_csv(file_path, header=None)\n",
    "df.head()"
   ]
  },
  {
   "cell_type": "code",
   "execution_count": 3,
   "metadata": {},
   "outputs": [],
   "source": [
    "# Import train and test data\n",
    "X_train = pd.read_csv('Project datasets/Sample files/train_inputs_50.csv', header=None)\n",
    "y_train = pd.read_csv('Project datasets/Sample files/train_outputs_50.csv', header=None)\n",
    "X_test = pd.read_csv('Project datasets/Sample files/test_inputs_50.csv', header=None)\n",
    "y_test = pd.read_csv('Project datasets/Sample files/test_outputs_50.csv', header=None)"
   ]
  },
  {
   "cell_type": "markdown",
   "metadata": {},
   "source": [
    "##### Define DAE model architecture"
   ]
  },
  {
   "cell_type": "code",
   "execution_count": 4,
   "metadata": {},
   "outputs": [],
   "source": [
    "# Importing the necessary libraries for denoising autoencoder\n",
    "from tensorflow.keras.models import Model\n",
    "from tensorflow.keras.layers import Input, Dense"
   ]
  },
  {
   "cell_type": "code",
   "execution_count": 5,
   "metadata": {},
   "outputs": [],
   "source": [
    "# Define the dimensions\n",
    "input_dim = X_train.shape[1]  # Number of columns (wavenumber shifts)"
   ]
  },
  {
   "cell_type": "code",
   "execution_count": 6,
   "metadata": {},
   "outputs": [],
   "source": [
    "# Encoder\n",
    "input_layer = Input(shape=(input_dim,))\n",
    "encoder = Dense(128, activation=\"relu\")(input_layer)\n",
    "encoder = Dense(64, activation=\"relu\")(encoder)\n",
    "encoder = Dense(32, activation=\"relu\")(encoder)"
   ]
  },
  {
   "cell_type": "code",
   "execution_count": 7,
   "metadata": {},
   "outputs": [],
   "source": [
    "# Decoder\n",
    "decoder = Dense(64, activation=\"relu\")(encoder)\n",
    "decoder = Dense(128, activation=\"relu\")(decoder)\n",
    "output_layer = Dense(input_dim, activation=\"linear\")(decoder)"
   ]
  },
  {
   "cell_type": "code",
   "execution_count": 8,
   "metadata": {},
   "outputs": [
    {
     "name": "stdout",
     "output_type": "stream",
     "text": [
      "Model: \"model\"\n",
      "_________________________________________________________________\n",
      " Layer (type)                Output Shape              Param #   \n",
      "=================================================================\n",
      " input_1 (InputLayer)        [(None, 500)]             0         \n",
      "                                                                 \n",
      " dense (Dense)               (None, 128)               64128     \n",
      "                                                                 \n",
      " dense_1 (Dense)             (None, 64)                8256      \n",
      "                                                                 \n",
      " dense_2 (Dense)             (None, 32)                2080      \n",
      "                                                                 \n",
      " dense_3 (Dense)             (None, 64)                2112      \n",
      "                                                                 \n",
      " dense_4 (Dense)             (None, 128)               8320      \n",
      "                                                                 \n",
      " dense_5 (Dense)             (None, 500)               64500     \n",
      "                                                                 \n",
      "=================================================================\n",
      "Total params: 149,396\n",
      "Trainable params: 149,396\n",
      "Non-trainable params: 0\n",
      "_________________________________________________________________\n"
     ]
    }
   ],
   "source": [
    "# Build the model\n",
    "dae = Model(inputs=input_layer, outputs=output_layer)\n",
    "dae.compile(optimizer=\"adam\", loss=\"mean_squared_error\")\n",
    "dae.summary()"
   ]
  },
  {
   "cell_type": "markdown",
   "metadata": {},
   "source": [
    "##### Train the model"
   ]
  },
  {
   "cell_type": "code",
   "execution_count": 9,
   "metadata": {},
   "outputs": [
    {
     "name": "stdout",
     "output_type": "stream",
     "text": [
      "Epoch 1/100\n",
      "7/7 [==============================] - 5s 229ms/step - loss: 0.0011 - val_loss: 9.0719e-04\n",
      "Epoch 2/100\n",
      "7/7 [==============================] - 0s 17ms/step - loss: 6.3311e-04 - val_loss: 3.4608e-04\n",
      "Epoch 3/100\n",
      "7/7 [==============================] - 0s 17ms/step - loss: 3.3682e-04 - val_loss: 1.5572e-04\n",
      "Epoch 4/100\n",
      "7/7 [==============================] - 0s 19ms/step - loss: 2.2286e-04 - val_loss: 8.2385e-05\n",
      "Epoch 5/100\n",
      "7/7 [==============================] - 0s 20ms/step - loss: 1.4541e-04 - val_loss: 9.2629e-05\n",
      "Epoch 6/100\n",
      "7/7 [==============================] - 0s 36ms/step - loss: 1.2403e-04 - val_loss: 4.1068e-05\n",
      "Epoch 7/100\n",
      "7/7 [==============================] - 0s 20ms/step - loss: 9.7638e-05 - val_loss: 3.8777e-05\n",
      "Epoch 8/100\n",
      "7/7 [==============================] - 0s 23ms/step - loss: 9.2299e-05 - val_loss: 3.7429e-05\n",
      "Epoch 9/100\n",
      "7/7 [==============================] - 0s 20ms/step - loss: 7.5619e-05 - val_loss: 4.7188e-05\n",
      "Epoch 10/100\n",
      "7/7 [==============================] - 0s 21ms/step - loss: 6.9632e-05 - val_loss: 4.4631e-05\n",
      "Epoch 11/100\n",
      "7/7 [==============================] - 0s 20ms/step - loss: 5.4208e-05 - val_loss: 7.2440e-05\n",
      "Epoch 12/100\n",
      "7/7 [==============================] - 0s 26ms/step - loss: 5.5369e-05 - val_loss: 4.4948e-05\n",
      "Epoch 13/100\n",
      "7/7 [==============================] - 0s 22ms/step - loss: 4.7070e-05 - val_loss: 4.1776e-05\n",
      "Epoch 14/100\n",
      "7/7 [==============================] - 0s 18ms/step - loss: 4.7422e-05 - val_loss: 7.5425e-05\n",
      "Epoch 15/100\n",
      "7/7 [==============================] - 0s 36ms/step - loss: 5.3126e-05 - val_loss: 3.5524e-05\n",
      "Epoch 16/100\n",
      "7/7 [==============================] - 0s 18ms/step - loss: 4.3725e-05 - val_loss: 3.7830e-05\n",
      "Epoch 17/100\n",
      "7/7 [==============================] - 0s 19ms/step - loss: 4.3114e-05 - val_loss: 2.9212e-05\n",
      "Epoch 18/100\n",
      "7/7 [==============================] - 0s 19ms/step - loss: 3.7442e-05 - val_loss: 3.5574e-05\n",
      "Epoch 19/100\n",
      "7/7 [==============================] - 0s 21ms/step - loss: 3.6716e-05 - val_loss: 4.0424e-05\n",
      "Epoch 20/100\n",
      "7/7 [==============================] - 0s 23ms/step - loss: 3.7391e-05 - val_loss: 3.3607e-05\n",
      "Epoch 21/100\n",
      "7/7 [==============================] - 0s 21ms/step - loss: 3.6030e-05 - val_loss: 2.8458e-05\n",
      "Epoch 22/100\n",
      "7/7 [==============================] - 0s 22ms/step - loss: 3.6558e-05 - val_loss: 2.3356e-05\n",
      "Epoch 23/100\n",
      "7/7 [==============================] - 0s 21ms/step - loss: 3.4402e-05 - val_loss: 2.8110e-05\n",
      "Epoch 24/100\n",
      "7/7 [==============================] - 0s 19ms/step - loss: 3.2167e-05 - val_loss: 3.0257e-05\n",
      "Epoch 25/100\n",
      "7/7 [==============================] - 0s 21ms/step - loss: 3.1823e-05 - val_loss: 3.5323e-05\n",
      "Epoch 26/100\n",
      "7/7 [==============================] - 0s 20ms/step - loss: 3.2879e-05 - val_loss: 3.9120e-05\n",
      "Epoch 27/100\n",
      "7/7 [==============================] - 0s 20ms/step - loss: 3.4072e-05 - val_loss: 3.3755e-05\n",
      "Epoch 28/100\n",
      "7/7 [==============================] - 0s 22ms/step - loss: 3.2688e-05 - val_loss: 3.1766e-05\n",
      "Epoch 29/100\n",
      "7/7 [==============================] - 0s 16ms/step - loss: 2.9845e-05 - val_loss: 2.8076e-05\n",
      "Epoch 30/100\n",
      "7/7 [==============================] - 0s 15ms/step - loss: 2.7029e-05 - val_loss: 2.9825e-05\n",
      "Epoch 31/100\n",
      "7/7 [==============================] - 0s 21ms/step - loss: 2.7497e-05 - val_loss: 2.6365e-05\n",
      "Epoch 32/100\n",
      "7/7 [==============================] - 0s 18ms/step - loss: 3.2393e-05 - val_loss: 2.7613e-05\n",
      "Epoch 33/100\n",
      "7/7 [==============================] - 0s 16ms/step - loss: 2.6565e-05 - val_loss: 2.2590e-05\n",
      "Epoch 34/100\n",
      "7/7 [==============================] - 0s 19ms/step - loss: 2.2813e-05 - val_loss: 1.9435e-05\n",
      "Epoch 35/100\n",
      "7/7 [==============================] - 0s 24ms/step - loss: 2.0792e-05 - val_loss: 1.8746e-05\n",
      "Epoch 36/100\n",
      "7/7 [==============================] - 0s 19ms/step - loss: 1.9587e-05 - val_loss: 2.0930e-05\n",
      "Epoch 37/100\n",
      "7/7 [==============================] - 0s 19ms/step - loss: 2.1515e-05 - val_loss: 1.5897e-05\n",
      "Epoch 38/100\n",
      "7/7 [==============================] - 0s 20ms/step - loss: 1.7601e-05 - val_loss: 1.1226e-05\n",
      "Epoch 39/100\n",
      "7/7 [==============================] - 0s 21ms/step - loss: 1.6563e-05 - val_loss: 1.0446e-05\n",
      "Epoch 40/100\n",
      "7/7 [==============================] - 0s 29ms/step - loss: 1.6913e-05 - val_loss: 1.0421e-05\n",
      "Epoch 41/100\n",
      "7/7 [==============================] - 0s 41ms/step - loss: 1.4327e-05 - val_loss: 1.3751e-05\n",
      "Epoch 42/100\n",
      "7/7 [==============================] - 0s 30ms/step - loss: 1.3384e-05 - val_loss: 1.4027e-05\n",
      "Epoch 43/100\n",
      "7/7 [==============================] - 0s 18ms/step - loss: 1.3791e-05 - val_loss: 1.2202e-05\n",
      "Epoch 44/100\n",
      "7/7 [==============================] - 0s 18ms/step - loss: 1.3407e-05 - val_loss: 1.5868e-05\n",
      "Epoch 45/100\n",
      "7/7 [==============================] - 0s 17ms/step - loss: 1.3431e-05 - val_loss: 1.9073e-05\n",
      "Epoch 46/100\n",
      "7/7 [==============================] - 0s 18ms/step - loss: 1.4357e-05 - val_loss: 1.3769e-05\n",
      "Epoch 47/100\n",
      "7/7 [==============================] - 0s 30ms/step - loss: 1.2271e-05 - val_loss: 1.1596e-05\n",
      "Epoch 48/100\n",
      "7/7 [==============================] - 0s 32ms/step - loss: 1.0793e-05 - val_loss: 1.3630e-05\n",
      "Epoch 49/100\n",
      "7/7 [==============================] - 0s 22ms/step - loss: 1.3777e-05 - val_loss: 9.2619e-06\n",
      "Epoch 50/100\n",
      "7/7 [==============================] - 0s 22ms/step - loss: 1.1274e-05 - val_loss: 8.3241e-06\n",
      "Epoch 51/100\n",
      "7/7 [==============================] - 0s 25ms/step - loss: 1.0481e-05 - val_loss: 9.0045e-06\n",
      "Epoch 52/100\n",
      "7/7 [==============================] - 0s 18ms/step - loss: 9.9415e-06 - val_loss: 9.5631e-06\n",
      "Epoch 53/100\n",
      "7/7 [==============================] - 0s 18ms/step - loss: 9.7439e-06 - val_loss: 1.1620e-05\n",
      "Epoch 54/100\n",
      "7/7 [==============================] - 0s 23ms/step - loss: 1.0335e-05 - val_loss: 1.1244e-05\n",
      "Epoch 55/100\n",
      "7/7 [==============================] - 0s 18ms/step - loss: 1.0746e-05 - val_loss: 8.3374e-06\n",
      "Epoch 56/100\n",
      "7/7 [==============================] - 0s 25ms/step - loss: 9.7806e-06 - val_loss: 1.2634e-05\n",
      "Epoch 57/100\n",
      "7/7 [==============================] - 0s 24ms/step - loss: 1.2098e-05 - val_loss: 1.1545e-05\n",
      "Epoch 58/100\n",
      "7/7 [==============================] - 0s 25ms/step - loss: 1.3309e-05 - val_loss: 1.1376e-05\n",
      "Epoch 59/100\n",
      "7/7 [==============================] - 0s 25ms/step - loss: 1.2542e-05 - val_loss: 1.3202e-05\n",
      "Epoch 60/100\n",
      "7/7 [==============================] - 0s 31ms/step - loss: 1.1828e-05 - val_loss: 1.3766e-05\n",
      "Epoch 61/100\n",
      "7/7 [==============================] - 0s 21ms/step - loss: 1.1464e-05 - val_loss: 1.4381e-05\n",
      "Epoch 62/100\n",
      "7/7 [==============================] - 0s 22ms/step - loss: 1.0509e-05 - val_loss: 1.1358e-05\n",
      "Epoch 63/100\n",
      "7/7 [==============================] - 0s 23ms/step - loss: 9.2463e-06 - val_loss: 9.4720e-06\n",
      "Epoch 64/100\n",
      "7/7 [==============================] - 0s 35ms/step - loss: 8.5463e-06 - val_loss: 9.6763e-06\n",
      "Epoch 65/100\n",
      "7/7 [==============================] - 0s 22ms/step - loss: 8.3082e-06 - val_loss: 8.4650e-06\n",
      "Epoch 66/100\n",
      "7/7 [==============================] - 0s 18ms/step - loss: 8.4045e-06 - val_loss: 8.2691e-06\n",
      "Epoch 67/100\n",
      "7/7 [==============================] - 0s 21ms/step - loss: 8.1258e-06 - val_loss: 8.7581e-06\n",
      "Epoch 68/100\n",
      "7/7 [==============================] - 0s 18ms/step - loss: 7.9737e-06 - val_loss: 8.7205e-06\n",
      "Epoch 69/100\n",
      "7/7 [==============================] - 0s 15ms/step - loss: 7.8608e-06 - val_loss: 8.7076e-06\n",
      "Epoch 70/100\n",
      "7/7 [==============================] - 0s 15ms/step - loss: 7.7607e-06 - val_loss: 9.2216e-06\n",
      "Epoch 71/100\n",
      "7/7 [==============================] - 0s 25ms/step - loss: 7.7372e-06 - val_loss: 8.5596e-06\n",
      "Epoch 72/100\n",
      "7/7 [==============================] - 0s 19ms/step - loss: 7.5914e-06 - val_loss: 8.7153e-06\n",
      "Epoch 73/100\n",
      "7/7 [==============================] - 0s 20ms/step - loss: 7.4474e-06 - val_loss: 8.4913e-06\n",
      "Epoch 74/100\n",
      "7/7 [==============================] - 0s 20ms/step - loss: 7.5293e-06 - val_loss: 8.6990e-06\n",
      "Epoch 75/100\n",
      "7/7 [==============================] - 0s 21ms/step - loss: 7.3348e-06 - val_loss: 8.9596e-06\n",
      "Epoch 76/100\n",
      "7/7 [==============================] - 0s 33ms/step - loss: 7.4662e-06 - val_loss: 8.9517e-06\n",
      "Epoch 77/100\n",
      "7/7 [==============================] - 0s 25ms/step - loss: 7.5689e-06 - val_loss: 8.7094e-06\n",
      "Epoch 78/100\n",
      "7/7 [==============================] - 0s 27ms/step - loss: 7.4632e-06 - val_loss: 8.6575e-06\n",
      "Epoch 79/100\n",
      "7/7 [==============================] - 0s 19ms/step - loss: 7.4721e-06 - val_loss: 8.8296e-06\n",
      "Epoch 80/100\n",
      "7/7 [==============================] - 0s 19ms/step - loss: 7.2931e-06 - val_loss: 8.7346e-06\n",
      "Epoch 81/100\n",
      "7/7 [==============================] - 0s 21ms/step - loss: 7.2337e-06 - val_loss: 8.4747e-06\n",
      "Epoch 82/100\n",
      "7/7 [==============================] - 0s 18ms/step - loss: 7.1961e-06 - val_loss: 8.7690e-06\n",
      "Epoch 83/100\n",
      "7/7 [==============================] - 0s 23ms/step - loss: 7.2404e-06 - val_loss: 1.0011e-05\n",
      "Epoch 84/100\n",
      "7/7 [==============================] - 0s 20ms/step - loss: 7.3972e-06 - val_loss: 9.9373e-06\n",
      "Epoch 85/100\n",
      "7/7 [==============================] - 0s 31ms/step - loss: 7.3710e-06 - val_loss: 9.8324e-06\n",
      "Epoch 86/100\n",
      "7/7 [==============================] - 0s 21ms/step - loss: 7.2321e-06 - val_loss: 8.9306e-06\n",
      "Epoch 87/100\n",
      "7/7 [==============================] - 0s 19ms/step - loss: 7.2989e-06 - val_loss: 8.3672e-06\n",
      "Epoch 88/100\n",
      "7/7 [==============================] - 0s 21ms/step - loss: 7.4786e-06 - val_loss: 8.4344e-06\n",
      "Epoch 89/100\n",
      "7/7 [==============================] - 0s 43ms/step - loss: 8.0498e-06 - val_loss: 8.4556e-06\n",
      "Epoch 90/100\n",
      "7/7 [==============================] - 0s 26ms/step - loss: 7.5145e-06 - val_loss: 8.4532e-06\n",
      "Epoch 91/100\n",
      "7/7 [==============================] - 0s 29ms/step - loss: 7.3354e-06 - val_loss: 8.3614e-06\n",
      "Epoch 92/100\n",
      "7/7 [==============================] - 0s 35ms/step - loss: 7.3768e-06 - val_loss: 8.6422e-06\n",
      "Epoch 93/100\n",
      "7/7 [==============================] - 0s 23ms/step - loss: 7.5780e-06 - val_loss: 8.3584e-06\n",
      "Epoch 94/100\n",
      "7/7 [==============================] - 0s 23ms/step - loss: 8.2791e-06 - val_loss: 8.2782e-06\n",
      "Epoch 95/100\n",
      "7/7 [==============================] - 0s 29ms/step - loss: 8.2165e-06 - val_loss: 8.1644e-06\n",
      "Epoch 96/100\n",
      "7/7 [==============================] - 0s 24ms/step - loss: 7.9168e-06 - val_loss: 8.2757e-06\n",
      "Epoch 97/100\n",
      "7/7 [==============================] - 0s 21ms/step - loss: 9.3173e-06 - val_loss: 1.0309e-05\n",
      "Epoch 98/100\n",
      "7/7 [==============================] - 0s 20ms/step - loss: 9.7226e-06 - val_loss: 1.5302e-05\n",
      "Epoch 99/100\n",
      "7/7 [==============================] - 0s 25ms/step - loss: 1.5387e-05 - val_loss: 1.1355e-05\n",
      "Epoch 100/100\n",
      "7/7 [==============================] - 0s 22ms/step - loss: 1.1860e-05 - val_loss: 7.8980e-06\n"
     ]
    }
   ],
   "source": [
    "# Train the DAE\n",
    "history = dae.fit(X_train, y_train, epochs=100, batch_size=8, validation_data=(X_test, y_test))"
   ]
  },
  {
   "cell_type": "code",
   "execution_count": 10,
   "metadata": {},
   "outputs": [
    {
     "data": {
      "image/png": "[encoded data removed]",
      "text/plain": [
       "<Figure size 640x480 with 1 Axes>"
      ]
     },
     "metadata": {},
     "output_type": "display_data"
    }
   ],
   "source": [
    "import matplotlib.pyplot as plt\n",
    "\n",
    "# Plot training and validation loss over epochs\n",
    "plt.plot(history.history['loss'], label='Training Loss')\n",
    "plt.plot(history.history['val_loss'], label='Validation Loss')\n",
    "plt.xlabel('Epochs')\n",
    "plt.ylabel('Loss')\n",
    "plt.legend()\n",
    "plt.title('Training and Validation Loss')\n",
    "plt.show()"
   ]
  },
  {
   "cell_type": "markdown",
   "metadata": {},
   "source": [
    "##### Predictions"
   ]
  },
  {
   "cell_type": "code",
   "execution_count": 11,
   "metadata": {},
   "outputs": [
    {
     "name": "stdout",
     "output_type": "stream",
     "text": [
      "2/2 [==============================] - 1s 15ms/step\n"
     ]
    }
   ],
   "source": [
    "# Predict on the test set\n",
    "predicted_output = dae.predict(X_test)"
   ]
  },
  {
   "cell_type": "code",
   "execution_count": 12,
   "metadata": {},
   "outputs": [],
   "source": [
    "# Convert from array to dataframe\n",
    "predicted_output = pd.DataFrame(predicted_output)"
   ]
  },
  {
   "cell_type": "markdown",
   "metadata": {},
   "source": [
    "##### Evaluate the model"
   ]
  },
  {
   "cell_type": "code",
   "execution_count": 34,
   "metadata": {},
   "outputs": [
    {
     "data": {
      "image/png": "[encoded data removed]",
      "text/plain": [
       "<Figure size 1000x400 with 1 Axes>"
      ]
     },
     "metadata": {},
     "output_type": "display_data"
    }
   ],
   "source": [
    "# Visualize original noisy, predicted denoised, and true clean spectra for a few samples\n",
    "\n",
    "plt.figure(figsize=(10, 4))\n",
    "plt.plot(X_test.iloc[1], label='Noisy Input')\n",
    "plt.plot(predicted_output.iloc[1], label='Denoised Output')\n",
    "plt.plot(y_test.iloc[1], label='True Clean Output')\n",
    "plt.xlabel('Wavenumber Shift Index')\n",
    "plt.ylabel('Intensity')\n",
    "plt.legend()\n",
    "plt.title(f'Sample 1 - DAE Denoising Result')\n",
    "plt.show()"
   ]
  },
  {
   "cell_type": "code",
   "execution_count": 14,
   "metadata": {},
   "outputs": [
    {
     "data": {
      "application/vnd.plotly.v1+json": {
       "config": {
        "plotlyServerURL": "https://plot.ly"
       },
       "data": [
        {
         "line": {
          "color": "cyan"
         },
         "mode": "lines",
         "name": "Noisy Input",
         "type": "scatter",
         "y": [
          0.09589,
          0.082192,
          0.089041,
          0.089041,
          0.089041,
          0.075342,
          0.075342,
          0.089041,
          0.089041,
          0.089041,
          0.075342,
          0.09589,
          0.089041,
          0.082192,
          0.068493,
          0.089041,
          0.082192,
          0.089041,
          0.082192,
          0.068493,
          0.089041,
          0.075342,
          0.068493,
          0.075342,
          0.075342,
          0.082192,
          0.082192,
          0.075342,
          0.068493,
          0.09589,
          0.075342,
          0.061644,
          0.068493,
          0.068493,
          0.082192,
          0.082192,
          0.089041,
          0.061644,
          0.075342,
          0.075342,
          0.061644,
          0.075342,
          0.075342,
          0.075342,
          0.075342,
          0.068493,
          0.075342,
          0.075342,
          0.09589,
          0.075342,
          0.068493,
          0.068493,
          0.061644,
          0.089041,
          0.082192,
          0.075342,
          0.068493,
          0.075342,
          0.089041,
          0.075342,
          0.075342,
          0.054795,
          0.047945,
          0.068493,
          0.075342,
          0.068493,
          0.082192,
          0.054795,
          0.075342,
          0.068493,
          0.075342,
          0.068493,
          0.061644,
          0.047945,
          0.075342,
          0.061644,
          0.047945,
          0.054795,
          0.061644,
          0.061644,
          0.054795,
          0.075342,
          0.068493,
          0.041096,
          0.061644,
          0.054795,
          0.061644,
          0.041096,
          0.068493,
          0.047945,
          0.034247,
          0.061644,
          0.061644,
          0.054795,
          0.061644,
          0.047945,
          0.061644,
          0.075342,
          0.061644,
          0.047945,
          0.047945,
          0.047945,
          0.041096,
          0.068493,
          0.061644,
          0.054795,
          0.047945,
          0.054795,
          0.061644,
          0.089041,
          0.068493,
          0.054795,
          0.041096,
          0.047945,
          0.054795,
          0.041096,
          0.054795,
          0.068493,
          0.068493,
          0.061644,
          0.034247,
          0.034247,
          0.054795,
          0.054795,
          0.054795,
          0.041096,
          0.068493,
          0.054795,
          0.061644,
          0.027397,
          0.061644,
          0.061644,
          0.047945,
          0.061644,
          0.054795,
          0.061644,
          0.047945,
          0.054795,
          0.027397,
          0.041096,
          0.047945,
          0.047945,
          0.041096,
          0.047945,
          0.034247,
          0.041096,
          0.034247,
          0.041096,
          0.047945,
          0.047945,
          0.047945,
          0.047945,
          0.047945,
          0.041096,
          0.027397,
          0.027397,
          0.034247,
          0.027397,
          0.041096,
          0.034247,
          0.027397,
          0.041096,
          0.041096,
          0.047945,
          0.034247,
          0.041096,
          0.034247,
          0.020548,
          0.054795,
          0.020548,
          0.041096,
          0.034247,
          0.034247,
          0.027397,
          0.020548,
          0.047945,
          0.041096,
          0.027397,
          0.034247,
          0.020548,
          0.041096,
          0.047945,
          0.027397,
          0.047945,
          0.034247,
          0.027397,
          0.020548,
          0.041096,
          0.034247,
          0.027397,
          0.027397,
          0.034247,
          0.027397,
          0.027397,
          0.034247,
          0.027397,
          0.034247,
          0.034247,
          0.027397,
          0.027397,
          0.034247,
          0.027397,
          0.034247,
          0.047945,
          0.034247,
          0.047945,
          0.020548,
          0.041096,
          0.034247,
          0.020548,
          0.0068493,
          0.027397,
          0.013699,
          0.047945,
          0.027397,
          0.027397,
          0.020548,
          0.027397,
          0.041096,
          0.020548,
          0.034247,
          0.027397,
          0.027397,
          0.027397,
          0.041096,
          0.027397,
          0.020548,
          0.020548,
          0.013699,
          0.034247,
          0.034247,
          0.013699,
          0.027397,
          0.041096,
          0.027397,
          0.027397,
          0.027397,
          0.027397,
          0.027397,
          0.020548,
          0.027397,
          0.027397,
          0.041096,
          0.034247,
          0.034247,
          0.027397,
          0.020548,
          0.013699,
          0.027397,
          0.034247,
          0.034247,
          0.013699,
          0.027397,
          0.013699,
          0.041096,
          0.020548,
          0.0068493,
          0.020548,
          0.020548,
          0.027397,
          0.027397,
          0.027397,
          0.020548,
          0.034247,
          0.020548,
          0.020548,
          0.020548,
          0.027397,
          0.034247,
          0.034247,
          0.027397,
          0.034247,
          0.027397,
          0.027397,
          0.020548,
          0.041096,
          0.041096,
          0.027397,
          0.027397,
          0.027397,
          0.020548,
          0.041096,
          0.034247,
          0.027397,
          0.034247,
          0.020548,
          0.041096,
          0.020548,
          0.047945,
          0.0068493,
          0.034247,
          0.020548,
          0.020548,
          0.027397,
          0.020548,
          0.027397,
          0.034247,
          0.013699,
          0.034247,
          0.041096,
          0.041096,
          0.020548,
          0.020548,
          0.027397,
          0.027397,
          0.027397,
          0.027397,
          0.034247,
          0.027397,
          0.027397,
          0.027397,
          0.034247,
          0.027397,
          0.027397,
          0.041096,
          0.034247,
          0.027397,
          0.041096,
          0.027397,
          0.013699,
          0.034247,
          0.020548,
          0.020548,
          0.013699,
          0.041096,
          0.020548,
          0.034247,
          0.027397,
          0.027397,
          0.027397,
          0.027397,
          0.027397,
          0.034247,
          0.034247,
          0.034247,
          0.020548,
          0.034247,
          0.041096,
          0.027397,
          0.013699,
          0.041096,
          0.020548,
          0.027397,
          0.020548,
          0.013699,
          0.0068493,
          0.027397,
          0.027397,
          0.041096,
          0.041096,
          0.020548,
          0.013699,
          0.027397,
          0.020548,
          0.020548,
          0.020548,
          0.047945,
          0.013699,
          0.027397,
          0.020548,
          0.034247,
          0.027397,
          0.041096,
          0.027397,
          0.020548,
          0.020548,
          0.020548,
          0.020548,
          0.034247,
          0.020548,
          0.020548,
          0.027397,
          0.027397,
          0.020548,
          0.034247,
          0.027397,
          0.020548,
          0.027397,
          0.027397,
          0.020548,
          0.020548,
          0.020548,
          0.034247,
          0.013699,
          0.027397,
          0.034247,
          0.020548,
          0.041096,
          0.013699,
          0.013699,
          0.027397,
          0.027397,
          0.041096,
          0.041096,
          0.027397,
          0.013699,
          0.034247,
          0.027397,
          0.034247,
          0.027397,
          0.027397,
          0.041096,
          0.020548,
          0.034247,
          0.041096,
          0.034247,
          0.034247,
          0.041096,
          0.041096,
          0.027397,
          0.034247,
          0.027397,
          0.047945,
          0.034247,
          0.027397,
          0.054795,
          0.034247,
          0.041096,
          0.041096,
          0.034247,
          0.068493,
          0.047945,
          0.034247,
          0.054795,
          0.054795,
          0.054795,
          0.061644,
          0.054795,
          0.041096,
          0.041096,
          0.047945,
          0.061644,
          0.061644,
          0.061644,
          0.061644,
          0.075342,
          0.041096,
          0.047945,
          0.061644,
          0.047945,
          0.061644,
          0.047945,
          0.068493,
          0.068493,
          0.034247,
          0.054795,
          0.047945,
          0.068493,
          0.054795,
          0.047945,
          0.047945,
          0.054795,
          0.054795,
          0.041096,
          0.034247,
          0.041096,
          0.020548,
          0.041096,
          0.047945,
          0.027397,
          0.041096,
          0.041096,
          0.020548,
          0.034247,
          0.047945,
          0.027397,
          0.027397,
          0.034247,
          0.020548,
          0.020548,
          0.013699,
          0.027397,
          0.013699,
          0.027397,
          0.020548,
          0.034247,
          0.020548,
          0.034247,
          0.013699,
          0.020548,
          0.013699,
          0.034247,
          0.027397,
          0.013699,
          0.020548,
          0,
          0.020548,
          0.0068493,
          0.020548,
          0.013699,
          0,
          0.034247,
          0.020548,
          0,
          0.020548,
          0.013699,
          0,
          0.0068493,
          0.013699,
          0.020548
         ]
        },
        {
         "line": {
          "color": "green"
         },
         "mode": "lines",
         "name": "Denoised Output",
         "type": "scatter",
         "y": [
          0.08001935482025146,
          0.08032850921154022,
          0.07831341028213501,
          0.07850257307291031,
          0.07738962769508362,
          0.07800251990556717,
          0.07777755707502365,
          0.07845401018857956,
          0.07882672548294067,
          0.07837941497564316,
          0.07642580568790436,
          0.07493710517883301,
          0.07474475353956223,
          0.07531794905662537,
          0.07438038289546967,
          0.074854277074337,
          0.07382971048355103,
          0.0732896625995636,
          0.07345174252986908,
          0.07175229489803314,
          0.07368101179599762,
          0.07273685932159424,
          0.07158123701810837,
          0.0708586722612381,
          0.07133641093969345,
          0.0717560350894928,
          0.07029081881046295,
          0.0701066181063652,
          0.06947417557239532,
          0.06989044696092606,
          0.06973272562026978,
          0.07023370265960693,
          0.06921842694282532,
          0.06818612664937973,
          0.06867819279432297,
          0.06846235692501068,
          0.06836187839508057,
          0.06701341271400452,
          0.0659971833229065,
          0.06670732796192169,
          0.06703516095876694,
          0.06626836210489273,
          0.06539388000965118,
          0.06480644643306732,
          0.06588832288980484,
          0.0640219897031784,
          0.0647222250699997,
          0.06365670263767242,
          0.062025777995586395,
          0.0628194659948349,
          0.062894806265831,
          0.064235158264637,
          0.06400394439697266,
          0.06228812783956528,
          0.062358222901821136,
          0.06204777956008911,
          0.06217575818300247,
          0.061199598014354706,
          0.06308601796627045,
          0.061824649572372437,
          0.06069724261760712,
          0.06046832352876663,
          0.06022097170352936,
          0.06169509515166283,
          0.059482391923666,
          0.05810314416885376,
          0.05937843769788742,
          0.0609583780169487,
          0.061012059450149536,
          0.05989827215671539,
          0.05822216719388962,
          0.0570162832736969,
          0.05867920443415642,
          0.05798514559864998,
          0.05823381245136261,
          0.058633286505937576,
          0.056894153356552124,
          0.05696097016334534,
          0.056645914912223816,
          0.0571344755589962,
          0.056204214692115784,
          0.05697855353355408,
          0.05573417618870735,
          0.0564209446310997,
          0.055406056344509125,
          0.05410229042172432,
          0.053412213921546936,
          0.054490890353918076,
          0.05425001680850983,
          0.055712804198265076,
          0.05354442447423935,
          0.05344695597887039,
          0.05523741990327835,
          0.055334292352199554,
          0.05241025239229202,
          0.054408423602581024,
          0.053120579570531845,
          0.05289027839899063,
          0.05237409472465515,
          0.05132763087749481,
          0.053231410682201385,
          0.05057881399989128,
          0.05084408074617386,
          0.052030567079782486,
          0.050348419696092606,
          0.051046159118413925,
          0.05008754879236221,
          0.04998387023806572,
          0.047486867755651474,
          0.04728684574365616,
          0.04708321765065193,
          0.048544466495513916,
          0.049282561987638474,
          0.048075657337903976,
          0.04717251658439636,
          0.04736410453915596,
          0.04573867470026016,
          0.046840183436870575,
          0.046143077313899994,
          0.04614626243710518,
          0.0464438796043396,
          0.04471378028392792,
          0.04297114163637161,
          0.04406137764453888,
          0.043638210743665695,
          0.04379924386739731,
          0.04369702190160751,
          0.04281700402498245,
          0.04445463791489601,
          0.04379007965326309,
          0.041710130870342255,
          0.04136711359024048,
          0.039117481559515,
          0.04113156348466873,
          0.03925352543592453,
          0.039458971470594406,
          0.041658129543066025,
          0.03900031000375748,
          0.03697635233402252,
          0.03691771626472473,
          0.03798352926969528,
          0.03803686797618866,
          0.0362718403339386,
          0.03577285259962082,
          0.03494543209671974,
          0.03621403127908707,
          0.03495543450117111,
          0.032563868910074234,
          0.033047210425138474,
          0.034043580293655396,
          0.03214602172374725,
          0.03249476104974747,
          0.034146759659051895,
          0.030338840559124947,
          0.0317753329873085,
          0.030436042696237564,
          0.029244890436530113,
          0.030736902728676796,
          0.029467862099409103,
          0.029520543292164803,
          0.029836386442184448,
          0.030076470226049423,
          0.028591027483344078,
          0.029161227867007256,
          0.02723231539130211,
          0.028832601383328438,
          0.0284065380692482,
          0.027257725596427917,
          0.02733536995947361,
          0.0281208548694849,
          0.026208437979221344,
          0.029075242578983307,
          0.026809029281139374,
          0.026956558227539062,
          0.027348466217517853,
          0.027765031903982162,
          0.027388369664549828,
          0.02832166850566864,
          0.027790486812591553,
          0.029881056398153305,
          0.028795436024665833,
          0.027460992336273193,
          0.027336526662111282,
          0.02787483111023903,
          0.02903888374567032,
          0.02673361822962761,
          0.02690982073545456,
          0.025550032034516335,
          0.025445956736803055,
          0.02476654015481472,
          0.025933437049388885,
          0.023087341338396072,
          0.02360539510846138,
          0.02495039626955986,
          0.024172820150852203,
          0.0234487634152174,
          0.022950029000639915,
          0.024971937760710716,
          0.024380695074796677,
          0.023926755413413048,
          0.021885689347982407,
          0.022572111338377,
          0.021866774186491966,
          0.022925784811377525,
          0.022425953298807144,
          0.023117514327168465,
          0.02346278354525566,
          0.023462019860744476,
          0.023355228826403618,
          0.02263534441590309,
          0.023399999365210533,
          0.02289513684809208,
          0.023827088996767998,
          0.022603485733270645,
          0.02444567158818245,
          0.022501220926642418,
          0.022464323788881302,
          0.0226485263556242,
          0.023292284458875656,
          0.02281193435192108,
          0.02321118302643299,
          0.02341429889202118,
          0.02218332141637802,
          0.022091444581747055,
          0.02232615277171135,
          0.022265171632170677,
          0.020927032455801964,
          0.021801624447107315,
          0.02221689000725746,
          0.0203936118632555,
          0.02188270539045334,
          0.02116047404706478,
          0.0221619363874197,
          0.02220066823065281,
          0.022000489756464958,
          0.02048627659678459,
          0.020699631422758102,
          0.020381854847073555,
          0.019312815740704536,
          0.019588686525821686,
          0.020816808566451073,
          0.019509613513946533,
          0.018507525324821472,
          0.019579101353883743,
          0.019526945427060127,
          0.02016962505877018,
          0.019886648282408714,
          0.020283309742808342,
          0.01883821375668049,
          0.01981518045067787,
          0.020344316959381104,
          0.02057318389415741,
          0.018736466765403748,
          0.02133747562766075,
          0.019870717078447342,
          0.020526811480522156,
          0.020914500579237938,
          0.019522931426763535,
          0.020613091066479683,
          0.01980597898364067,
          0.02103072591125965,
          0.020023304969072342,
          0.019197586923837662,
          0.018929922953248024,
          0.01937364600598812,
          0.019511079415678978,
          0.020204242318868637,
          0.02015901915729046,
          0.02084304392337799,
          0.020603245124220848,
          0.01971493475139141,
          0.020128650590777397,
          0.021033352240920067,
          0.020418040454387665,
          0.019278379157185555,
          0.019811388105154037,
          0.020128045231103897,
          0.019412070512771606,
          0.020610984414815903,
          0.020004063844680786,
          0.019721904769539833,
          0.01947423443198204,
          0.02031327411532402,
          0.019327837973833084,
          0.02121948078274727,
          0.019967375323176384,
          0.020341701805591583,
          0.019911831244826317,
          0.019928131252527237,
          0.02167428843677044,
          0.020021624863147736,
          0.019839640706777573,
          0.019374176859855652,
          0.01916065253317356,
          0.019153282046318054,
          0.02114226669073105,
          0.02020888775587082,
          0.018454374745488167,
          0.018739989027380943,
          0.01866750605404377,
          0.020175516605377197,
          0.020190324634313583,
          0.019051553681492805,
          0.020568400621414185,
          0.01988791860640049,
          0.018979229032993317,
          0.020159365609288216,
          0.020564669743180275,
          0.018922660499811172,
          0.018987542018294334,
          0.018501486629247665,
          0.018992818892002106,
          0.01936943270266056,
          0.019030923023819923,
          0.01938522979617119,
          0.01907500997185707,
          0.01843738742172718,
          0.02028699778020382,
          0.018823858350515366,
          0.020344164222478867,
          0.017662573605775833,
          0.019042549654841423,
          0.018322080373764038,
          0.016908355057239532,
          0.01870032027363777,
          0.018592696636915207,
          0.016942700371146202,
          0.01763642020523548,
          0.018097784370183945,
          0.018044572323560715,
          0.017903849482536316,
          0.017647236585617065,
          0.017422689124941826,
          0.018468694761395454,
          0.017022831365466118,
          0.01809290423989296,
          0.017201827839016914,
          0.01807812601327896,
          0.017600785940885544,
          0.01870161108672619,
          0.0195342767983675,
          0.01774187572300434,
          0.01733783259987831,
          0.017599351704120636,
          0.016933400183916092,
          0.017727909609675407,
          0.01864536851644516,
          0.01731124147772789,
          0.016477404162287712,
          0.018672209233045578,
          0.017558515071868896,
          0.0190102718770504,
          0.01841130666434765,
          0.019014250487089157,
          0.01846178062260151,
          0.019179221242666245,
          0.020636506378650665,
          0.019725974649190903,
          0.019883984699845314,
          0.020145144313573837,
          0.019493835046887398,
          0.018236255273222923,
          0.02043861523270607,
          0.01801987551152706,
          0.018911343067884445,
          0.01969345286488533,
          0.0183907188475132,
          0.016352470964193344,
          0.017648844048380852,
          0.018267981708049774,
          0.01766405813395977,
          0.017619149759411812,
          0.016701163724064827,
          0.01846153475344181,
          0.018053950741887093,
          0.01847994327545166,
          0.016707010567188263,
          0.01737501472234726,
          0.016994930803775787,
          0.01958039402961731,
          0.017921380698680878,
          0.01909152790904045,
          0.018150001764297485,
          0.018618857488036156,
          0.017929356545209885,
          0.01871001347899437,
          0.019085168838500977,
          0.019276484847068787,
          0.01981094665825367,
          0.019915467128157616,
          0.0200478658080101,
          0.019925663247704506,
          0.020869219675660133,
          0.021232087165117264,
          0.022893119603395462,
          0.020767439156770706,
          0.020807266235351562,
          0.022896554321050644,
          0.022708281874656677,
          0.024936750531196594,
          0.02439703978598118,
          0.02508627064526081,
          0.02441653609275818,
          0.025948598980903625,
          0.025240754708647728,
          0.02696620300412178,
          0.02763211354613304,
          0.026221275329589844,
          0.027107059955596924,
          0.031242050230503082,
          0.030374448746442795,
          0.030893053859472275,
          0.03129152953624725,
          0.03342905640602112,
          0.033443160355091095,
          0.03471473976969719,
          0.03434582054615021,
          0.036585040390491486,
          0.03957898169755936,
          0.038754574954509735,
          0.03911948204040527,
          0.04168420657515526,
          0.04283321648836136,
          0.045082930475473404,
          0.04359810799360275,
          0.045844051986932755,
          0.046949222683906555,
          0.04864782840013504,
          0.05052772909402847,
          0.04948921501636505,
          0.05208710581064224,
          0.0520913191139698,
          0.05200250446796417,
          0.05341680720448494,
          0.052492089569568634,
          0.052537672221660614,
          0.05213665962219238,
          0.05280046910047531,
          0.053464747965335846,
          0.051396071910858154,
          0.05044254660606384,
          0.051189541816711426,
          0.050263211131095886,
          0.04801838845014572,
          0.048042409121990204,
          0.04710356891155243,
          0.04690372198820114,
          0.04472711682319641,
          0.04405127838253975,
          0.04192228615283966,
          0.0399092435836792,
          0.03931387886404991,
          0.03785083070397377,
          0.03539620339870453,
          0.03196011111140251,
          0.03401242196559906,
          0.03163342922925949,
          0.030533436685800552,
          0.027259912341833115,
          0.02559933438897133,
          0.0271441712975502,
          0.026169806718826294,
          0.02472073584794998,
          0.021727005019783974,
          0.022857824340462685,
          0.020587341859936714,
          0.020070061087608337,
          0.018916063010692596,
          0.017455819994211197,
          0.017762718722224236,
          0.01583680883049965,
          0.01633557118475437,
          0.016035960987210274,
          0.014174072071909904,
          0.013808023184537888,
          0.014743410982191563,
          0.013066494837403297,
          0.012814786285161972,
          0.012430860660970211,
          0.010857652872800827,
          0.009536131285130978,
          0.01023415382951498,
          0.010760651901364326,
          0.009785933420062065,
          0.010508638806641102,
          0.008924312889575958,
          0.00985371507704258,
          0.009382538497447968,
          0.00980956107378006,
          0.008213450200855732,
          0.006795126013457775,
          0.008975019678473473,
          0.006753238849341869,
          0.007954469881951809,
          0.006676299963146448,
          0.006549539044499397,
          0.006352417171001434,
          0.007990473881363869,
          0.007911836728453636,
          0.006658818572759628
         ]
        },
        {
         "line": {
          "color": "orange"
         },
         "mode": "lines",
         "name": "True Clean Output",
         "type": "scatter",
         "y": [
          0.082246,
          0.080797,
          0.080435,
          0.080435,
          0.082246,
          0.083333,
          0.080797,
          0.080072,
          0.082609,
          0.078261,
          0.076812,
          0.078261,
          0.075,
          0.077174,
          0.075362,
          0.077174,
          0.07971,
          0.078623,
          0.069928,
          0.072101,
          0.076449,
          0.078261,
          0.075725,
          0.074275,
          0.073188,
          0.067754,
          0.069565,
          0.075,
          0.07029,
          0.074638,
          0.074275,
          0.073188,
          0.067391,
          0.07029,
          0.074275,
          0.070652,
          0.066667,
          0.069928,
          0.075362,
          0.066304,
          0.068478,
          0.064855,
          0.066667,
          0.070652,
          0.071014,
          0.066304,
          0.06413,
          0.06413,
          0.061957,
          0.063768,
          0.069565,
          0.05942,
          0.06558,
          0.061232,
          0.060507,
          0.066304,
          0.061594,
          0.06558,
          0.067029,
          0.066304,
          0.061957,
          0.063768,
          0.063406,
          0.060507,
          0.063043,
          0.068116,
          0.06087,
          0.062681,
          0.062681,
          0.056159,
          0.058333,
          0.060145,
          0.058696,
          0.060145,
          0.055435,
          0.05942,
          0.054348,
          0.055072,
          0.059058,
          0.056522,
          0.061594,
          0.053986,
          0.055797,
          0.051812,
          0.059783,
          0.052174,
          0.052174,
          0.057971,
          0.052174,
          0.056884,
          0.053261,
          0.055072,
          0.057971,
          0.05471,
          0.053986,
          0.044928,
          0.05471,
          0.054348,
          0.046377,
          0.048551,
          0.051449,
          0.050362,
          0.053623,
          0.050725,
          0.046739,
          0.050725,
          0.044203,
          0.049638,
          0.052899,
          0.046377,
          0.045652,
          0.044928,
          0.048188,
          0.047464,
          0.044565,
          0.042391,
          0.047464,
          0.046377,
          0.052174,
          0.047826,
          0.04529,
          0.045652,
          0.046014,
          0.049638,
          0.039855,
          0.044203,
          0.045652,
          0.043841,
          0.043841,
          0.03913,
          0.037681,
          0.038406,
          0.038406,
          0.040217,
          0.03913,
          0.038768,
          0.038768,
          0.038406,
          0.035507,
          0.038768,
          0.038406,
          0.036957,
          0.034058,
          0.034783,
          0.037319,
          0.033333,
          0.034058,
          0.031884,
          0.03587,
          0.028986,
          0.028623,
          0.030797,
          0.029348,
          0.031522,
          0.02971,
          0.030072,
          0.02971,
          0.030072,
          0.031522,
          0.031159,
          0.030072,
          0.027899,
          0.030797,
          0.031522,
          0.029348,
          0.026087,
          0.022464,
          0.028986,
          0.027899,
          0.026812,
          0.025,
          0.025725,
          0.024275,
          0.026812,
          0.027899,
          0.027174,
          0.028261,
          0.026449,
          0.028261,
          0.027174,
          0.025,
          0.026449,
          0.027536,
          0.026812,
          0.025,
          0.024638,
          0.024638,
          0.025725,
          0.025725,
          0.022101,
          0.025725,
          0.020652,
          0.022826,
          0.023188,
          0.022464,
          0.023551,
          0.019928,
          0.021014,
          0.022464,
          0.018478,
          0.023913,
          0.023188,
          0.025,
          0.022464,
          0.019203,
          0.021014,
          0.022826,
          0.018841,
          0.015942,
          0.022101,
          0.022826,
          0.02029,
          0.019203,
          0.022464,
          0.02029,
          0.021377,
          0.021377,
          0.023551,
          0.022101,
          0.023551,
          0.021377,
          0.022101,
          0.021014,
          0.022101,
          0.024275,
          0.02029,
          0.018478,
          0.019565,
          0.019203,
          0.02029,
          0.022101,
          0.019928,
          0.018841,
          0.018478,
          0.019203,
          0.023551,
          0.023551,
          0.018841,
          0.021014,
          0.019203,
          0.018841,
          0.019928,
          0.02029,
          0.018841,
          0.020652,
          0.016667,
          0.02029,
          0.02029,
          0.015942,
          0.017029,
          0.017754,
          0.017754,
          0.019928,
          0.020652,
          0.018841,
          0.017391,
          0.02029,
          0.015942,
          0.019565,
          0.021739,
          0.018841,
          0.021377,
          0.016667,
          0.020652,
          0.018841,
          0.018841,
          0.018116,
          0.017754,
          0.018478,
          0.02029,
          0.019565,
          0.018841,
          0.019928,
          0.017391,
          0.023551,
          0.017391,
          0.022826,
          0.017754,
          0.014855,
          0.017754,
          0.017391,
          0.018841,
          0.018116,
          0.017029,
          0.018116,
          0.016304,
          0.017029,
          0.01558,
          0.018478,
          0.016304,
          0.018841,
          0.01558,
          0.019928,
          0.018116,
          0.018841,
          0.017029,
          0.019203,
          0.01413,
          0.017391,
          0.013043,
          0.015942,
          0.017754,
          0.017391,
          0.015942,
          0.015942,
          0.013043,
          0.018841,
          0.01558,
          0.017029,
          0.014493,
          0.017029,
          0.017754,
          0.017391,
          0.021014,
          0.014493,
          0.016667,
          0.018841,
          0.018116,
          0.018478,
          0.017391,
          0.01558,
          0.015217,
          0.018478,
          0.015217,
          0.015942,
          0.017754,
          0.01558,
          0.014855,
          0.012319,
          0.014855,
          0.017754,
          0.019203,
          0.015942,
          0.015942,
          0.015217,
          0.013043,
          0.01413,
          0.013043,
          0.013406,
          0.01558,
          0.013406,
          0.015217,
          0.015217,
          0.012681,
          0.01413,
          0.01558,
          0.01558,
          0.015942,
          0.016667,
          0.016667,
          0.017391,
          0.017754,
          0.017029,
          0.014855,
          0.017029,
          0.01558,
          0.016667,
          0.014855,
          0.016304,
          0.017754,
          0.015942,
          0.017754,
          0.017391,
          0.015942,
          0.018116,
          0.017754,
          0.016667,
          0.015942,
          0.017029,
          0.017391,
          0.015217,
          0.018841,
          0.016304,
          0.015217,
          0.017391,
          0.019203,
          0.01558,
          0.01558,
          0.018478,
          0.01558,
          0.017391,
          0.018478,
          0.019203,
          0.019928,
          0.019203,
          0.018116,
          0.019565,
          0.016667,
          0.023551,
          0.019928,
          0.022826,
          0.019928,
          0.021739,
          0.018478,
          0.021014,
          0.022826,
          0.023188,
          0.022464,
          0.019203,
          0.023188,
          0.022464,
          0.024275,
          0.021014,
          0.022826,
          0.025,
          0.026812,
          0.032246,
          0.025362,
          0.028986,
          0.028623,
          0.032971,
          0.031159,
          0.028623,
          0.028261,
          0.029348,
          0.036594,
          0.036957,
          0.036594,
          0.040217,
          0.040217,
          0.043478,
          0.039493,
          0.037681,
          0.040942,
          0.041304,
          0.044565,
          0.045652,
          0.046377,
          0.044203,
          0.047101,
          0.050725,
          0.05,
          0.05,
          0.052536,
          0.048551,
          0.048913,
          0.048913,
          0.050725,
          0.049275,
          0.049638,
          0.050725,
          0.045652,
          0.040942,
          0.044928,
          0.045652,
          0.045652,
          0.04529,
          0.044203,
          0.043116,
          0.036957,
          0.042754,
          0.039855,
          0.036594,
          0.036594,
          0.030072,
          0.027174,
          0.02971,
          0.02971,
          0.026812,
          0.027174,
          0.024275,
          0.022464,
          0.023913,
          0.023551,
          0.019565,
          0.019565,
          0.02029,
          0.019928,
          0.018841,
          0.01413,
          0.012681,
          0.01558,
          0.015217,
          0.014493,
          0.011957,
          0.013406,
          0.011594,
          0.010145,
          0.01413,
          0.012319,
          0.01087,
          0.007971,
          0.0076087,
          0.01087,
          0.0086957,
          0.0086957,
          0.0086957,
          0.009058,
          0.0083333,
          0.0072464,
          0.007971,
          0.0061594,
          0.0086957,
          0.0076087,
          0.0050725,
          0.0076087,
          0.0054348,
          0.0050725,
          0.0050725,
          0.0043478
         ]
        }
       ],
       "layout": {
        "template": {
         "data": {
          "bar": [
           {
            "error_x": {
             "color": "#2a3f5f"
            },
            "error_y": {
             "color": "#2a3f5f"
            },
            "marker": {
             "line": {
              "color": "#E5ECF6",
              "width": 0.5
             },
             "pattern": {
              "fillmode": "overlay",
              "size": 10,
              "solidity": 0.2
             }
            },
            "type": "bar"
           }
          ],
          "barpolar": [
           {
            "marker": {
             "line": {
              "color": "#E5ECF6",
              "width": 0.5
             },
             "pattern": {
              "fillmode": "overlay",
              "size": 10,
              "solidity": 0.2
             }
            },
            "type": "barpolar"
           }
          ],
          "carpet": [
           {
            "aaxis": {
             "endlinecolor": "#2a3f5f",
             "gridcolor": "white",
             "linecolor": "white",
             "minorgridcolor": "white",
             "startlinecolor": "#2a3f5f"
            },
            "baxis": {
             "endlinecolor": "#2a3f5f",
             "gridcolor": "white",
             "linecolor": "white",
             "minorgridcolor": "white",
             "startlinecolor": "#2a3f5f"
            },
            "type": "carpet"
           }
          ],
          "choropleth": [
           {
            "colorbar": {
             "outlinewidth": 0,
             "ticks": ""
            },
            "type": "choropleth"
           }
          ],
          "contour": [
           {
            "colorbar": {
             "outlinewidth": 0,
             "ticks": ""
            },
            "colorscale": [
             [
              0,
              "#0d0887"
             ],
             [
              0.1111111111111111,
              "#46039f"
             ],
             [
              0.2222222222222222,
              "#7201a8"
             ],
             [
              0.3333333333333333,
              "#9c179e"
             ],
             [
              0.4444444444444444,
              "#bd3786"
             ],
             [
              0.5555555555555556,
              "#d8576b"
             ],
             [
              0.6666666666666666,
              "#ed7953"
             ],
             [
              0.7777777777777778,
              "#fb9f3a"
             ],
             [
              0.8888888888888888,
              "#fdca26"
             ],
             [
              1,
              "#f0f921"
             ]
            ],
            "type": "contour"
           }
          ],
          "contourcarpet": [
           {
            "colorbar": {
             "outlinewidth": 0,
             "ticks": ""
            },
            "type": "contourcarpet"
           }
          ],
          "heatmap": [
           {
            "colorbar": {
             "outlinewidth": 0,
             "ticks": ""
            },
            "colorscale": [
             [
              0,
              "#0d0887"
             ],
             [
              0.1111111111111111,
              "#46039f"
             ],
             [
              0.2222222222222222,
              "#7201a8"
             ],
             [
              0.3333333333333333,
              "#9c179e"
             ],
             [
              0.4444444444444444,
              "#bd3786"
             ],
             [
              0.5555555555555556,
              "#d8576b"
             ],
             [
              0.6666666666666666,
              "#ed7953"
             ],
             [
              0.7777777777777778,
              "#fb9f3a"
             ],
             [
              0.8888888888888888,
              "#fdca26"
             ],
             [
              1,
              "#f0f921"
             ]
            ],
            "type": "heatmap"
           }
          ],
          "heatmapgl": [
           {
            "colorbar": {
             "outlinewidth": 0,
             "ticks": ""
            },
            "colorscale": [
             [
              0,
              "#0d0887"
             ],
             [
              0.1111111111111111,
              "#46039f"
             ],
             [
              0.2222222222222222,
              "#7201a8"
             ],
             [
              0.3333333333333333,
              "#9c179e"
             ],
             [
              0.4444444444444444,
              "#bd3786"
             ],
             [
              0.5555555555555556,
              "#d8576b"
             ],
             [
              0.6666666666666666,
              "#ed7953"
             ],
             [
              0.7777777777777778,
              "#fb9f3a"
             ],
             [
              0.8888888888888888,
              "#fdca26"
             ],
             [
              1,
              "#f0f921"
             ]
            ],
            "type": "heatmapgl"
           }
          ],
          "histogram": [
           {
            "marker": {
             "pattern": {
              "fillmode": "overlay",
              "size": 10,
              "solidity": 0.2
             }
            },
            "type": "histogram"
           }
          ],
          "histogram2d": [
           {
            "colorbar": {
             "outlinewidth": 0,
             "ticks": ""
            },
            "colorscale": [
             [
              0,
              "#0d0887"
             ],
             [
              0.1111111111111111,
              "#46039f"
             ],
             [
              0.2222222222222222,
              "#7201a8"
             ],
             [
              0.3333333333333333,
              "#9c179e"
             ],
             [
              0.4444444444444444,
              "#bd3786"
             ],
             [
              0.5555555555555556,
              "#d8576b"
             ],
             [
              0.6666666666666666,
              "#ed7953"
             ],
             [
              0.7777777777777778,
              "#fb9f3a"
             ],
             [
              0.8888888888888888,
              "#fdca26"
             ],
             [
              1,
              "#f0f921"
             ]
            ],
            "type": "histogram2d"
           }
          ],
          "histogram2dcontour": [
           {
            "colorbar": {
             "outlinewidth": 0,
             "ticks": ""
            },
            "colorscale": [
             [
              0,
              "#0d0887"
             ],
             [
              0.1111111111111111,
              "#46039f"
             ],
             [
              0.2222222222222222,
              "#7201a8"
             ],
             [
              0.3333333333333333,
              "#9c179e"
             ],
             [
              0.4444444444444444,
              "#bd3786"
             ],
             [
              0.5555555555555556,
              "#d8576b"
             ],
             [
              0.6666666666666666,
              "#ed7953"
             ],
             [
              0.7777777777777778,
              "#fb9f3a"
             ],
             [
              0.8888888888888888,
              "#fdca26"
             ],
             [
              1,
              "#f0f921"
             ]
            ],
            "type": "histogram2dcontour"
           }
          ],
          "mesh3d": [
           {
            "colorbar": {
             "outlinewidth": 0,
             "ticks": ""
            },
            "type": "mesh3d"
           }
          ],
          "parcoords": [
           {
            "line": {
             "colorbar": {
              "outlinewidth": 0,
              "ticks": ""
             }
            },
            "type": "parcoords"
           }
          ],
          "pie": [
           {
            "automargin": true,
            "type": "pie"
           }
          ],
          "scatter": [
           {
            "marker": {
             "colorbar": {
              "outlinewidth": 0,
              "ticks": ""
             }
            },
            "type": "scatter"
           }
          ],
          "scatter3d": [
           {
            "line": {
             "colorbar": {
              "outlinewidth": 0,
              "ticks": ""
             }
            },
            "marker": {
             "colorbar": {
              "outlinewidth": 0,
              "ticks": ""
             }
            },
            "type": "scatter3d"
           }
          ],
          "scattercarpet": [
           {
            "marker": {
             "colorbar": {
              "outlinewidth": 0,
              "ticks": ""
             }
            },
            "type": "scattercarpet"
           }
          ],
          "scattergeo": [
           {
            "marker": {
             "colorbar": {
              "outlinewidth": 0,
              "ticks": ""
             }
            },
            "type": "scattergeo"
           }
          ],
          "scattergl": [
           {
            "marker": {
             "colorbar": {
              "outlinewidth": 0,
              "ticks": ""
             }
            },
            "type": "scattergl"
           }
          ],
          "scattermapbox": [
           {
            "marker": {
             "colorbar": {
              "outlinewidth": 0,
              "ticks": ""
             }
            },
            "type": "scattermapbox"
           }
          ],
          "scatterpolar": [
           {
            "marker": {
             "colorbar": {
              "outlinewidth": 0,
              "ticks": ""
             }
            },
            "type": "scatterpolar"
           }
          ],
          "scatterpolargl": [
           {
            "marker": {
             "colorbar": {
              "outlinewidth": 0,
              "ticks": ""
             }
            },
            "type": "scatterpolargl"
           }
          ],
          "scatterternary": [
           {
            "marker": {
             "colorbar": {
              "outlinewidth": 0,
              "ticks": ""
             }
            },
            "type": "scatterternary"
           }
          ],
          "surface": [
           {
            "colorbar": {
             "outlinewidth": 0,
             "ticks": ""
            },
            "colorscale": [
             [
              0,
              "#0d0887"
             ],
             [
              0.1111111111111111,
              "#46039f"
             ],
             [
              0.2222222222222222,
              "#7201a8"
             ],
             [
              0.3333333333333333,
              "#9c179e"
             ],
             [
              0.4444444444444444,
              "#bd3786"
             ],
             [
              0.5555555555555556,
              "#d8576b"
             ],
             [
              0.6666666666666666,
              "#ed7953"
             ],
             [
              0.7777777777777778,
              "#fb9f3a"
             ],
             [
              0.8888888888888888,
              "#fdca26"
             ],
             [
              1,
              "#f0f921"
             ]
            ],
            "type": "surface"
           }
          ],
          "table": [
           {
            "cells": {
             "fill": {
              "color": "#EBF0F8"
             },
             "line": {
              "color": "white"
             }
            },
            "header": {
             "fill": {
              "color": "#C8D4E3"
             },
             "line": {
              "color": "white"
             }
            },
            "type": "table"
           }
          ]
         },
         "layout": {
          "annotationdefaults": {
           "arrowcolor": "#2a3f5f",
           "arrowhead": 0,
           "arrowwidth": 1
          },
          "autotypenumbers": "strict",
          "coloraxis": {
           "colorbar": {
            "outlinewidth": 0,
            "ticks": ""
           }
          },
          "colorscale": {
           "diverging": [
            [
             0,
             "#8e0152"
            ],
            [
             0.1,
             "#c51b7d"
            ],
            [
             0.2,
             "#de77ae"
            ],
            [
             0.3,
             "#f1b6da"
            ],
            [
             0.4,
             "#fde0ef"
            ],
            [
             0.5,
             "#f7f7f7"
            ],
            [
             0.6,
             "#e6f5d0"
            ],
            [
             0.7,
             "#b8e186"
            ],
            [
             0.8,
             "#7fbc41"
            ],
            [
             0.9,
             "#4d9221"
            ],
            [
             1,
             "#276419"
            ]
           ],
           "sequential": [
            [
             0,
             "#0d0887"
            ],
            [
             0.1111111111111111,
             "#46039f"
            ],
            [
             0.2222222222222222,
             "#7201a8"
            ],
            [
             0.3333333333333333,
             "#9c179e"
            ],
            [
             0.4444444444444444,
             "#bd3786"
            ],
            [
             0.5555555555555556,
             "#d8576b"
            ],
            [
             0.6666666666666666,
             "#ed7953"
            ],
            [
             0.7777777777777778,
             "#fb9f3a"
            ],
            [
             0.8888888888888888,
             "#fdca26"
            ],
            [
             1,
             "#f0f921"
            ]
           ],
           "sequentialminus": [
            [
             0,
             "#0d0887"
            ],
            [
             0.1111111111111111,
             "#46039f"
            ],
            [
             0.2222222222222222,
             "#7201a8"
            ],
            [
             0.3333333333333333,
             "#9c179e"
            ],
            [
             0.4444444444444444,
             "#bd3786"
            ],
            [
             0.5555555555555556,
             "#d8576b"
            ],
            [
             0.6666666666666666,
             "#ed7953"
            ],
            [
             0.7777777777777778,
             "#fb9f3a"
            ],
            [
             0.8888888888888888,
             "#fdca26"
            ],
            [
             1,
             "#f0f921"
            ]
           ]
          },
          "colorway": [
           "#636efa",
           "#EF553B",
           "#00cc96",
           "#ab63fa",
           "#FFA15A",
           "#19d3f3",
           "#FF6692",
           "#B6E880",
           "#FF97FF",
           "#FECB52"
          ],
          "font": {
           "color": "#2a3f5f"
          },
          "geo": {
           "bgcolor": "white",
           "lakecolor": "white",
           "landcolor": "#E5ECF6",
           "showlakes": true,
           "showland": true,
           "subunitcolor": "white"
          },
          "hoverlabel": {
           "align": "left"
          },
          "hovermode": "closest",
          "mapbox": {
           "style": "light"
          },
          "paper_bgcolor": "white",
          "plot_bgcolor": "#E5ECF6",
          "polar": {
           "angularaxis": {
            "gridcolor": "white",
            "linecolor": "white",
            "ticks": ""
           },
           "bgcolor": "#E5ECF6",
           "radialaxis": {
            "gridcolor": "white",
            "linecolor": "white",
            "ticks": ""
           }
          },
          "scene": {
           "xaxis": {
            "backgroundcolor": "#E5ECF6",
            "gridcolor": "white",
            "gridwidth": 2,
            "linecolor": "white",
            "showbackground": true,
            "ticks": "",
            "zerolinecolor": "white"
           },
           "yaxis": {
            "backgroundcolor": "#E5ECF6",
            "gridcolor": "white",
            "gridwidth": 2,
            "linecolor": "white",
            "showbackground": true,
            "ticks": "",
            "zerolinecolor": "white"
           },
           "zaxis": {
            "backgroundcolor": "#E5ECF6",
            "gridcolor": "white",
            "gridwidth": 2,
            "linecolor": "white",
            "showbackground": true,
            "ticks": "",
            "zerolinecolor": "white"
           }
          },
          "shapedefaults": {
           "line": {
            "color": "#2a3f5f"
           }
          },
          "ternary": {
           "aaxis": {
            "gridcolor": "white",
            "linecolor": "white",
            "ticks": ""
           },
           "baxis": {
            "gridcolor": "white",
            "linecolor": "white",
            "ticks": ""
           },
           "bgcolor": "#E5ECF6",
           "caxis": {
            "gridcolor": "white",
            "linecolor": "white",
            "ticks": ""
           }
          },
          "title": {
           "x": 0.05
          },
          "xaxis": {
           "automargin": true,
           "gridcolor": "white",
           "linecolor": "white",
           "ticks": "",
           "title": {
            "standoff": 15
           },
           "zerolinecolor": "white",
           "zerolinewidth": 2
          },
          "yaxis": {
           "automargin": true,
           "gridcolor": "white",
           "linecolor": "white",
           "ticks": "",
           "title": {
            "standoff": 15
           },
           "zerolinecolor": "white",
           "zerolinewidth": 2
          }
         }
        },
        "title": {
         "text": "Comparison of Noisy, Denoised, and True Outputs"
        },
        "xaxis": {
         "title": {
          "text": "Wavenumber Shift Index"
         }
        },
        "yaxis": {
         "title": {
          "text": "Intensity"
         }
        }
       }
      }
     },
     "metadata": {},
     "output_type": "display_data"
    }
   ],
   "source": [
    "import plotly.graph_objects as go\n",
    "\n",
    "# Example data from your variables\n",
    "noisy_input = X_test.iloc[1]\n",
    "denoised_output = predicted_output.iloc[1]\n",
    "true_clean_output = y_test.iloc[1]\n",
    "\n",
    "# Create traces for each distribution\n",
    "trace1 = go.Scatter(\n",
    "    y=noisy_input,\n",
    "    mode='lines',\n",
    "    name='Noisy Input',\n",
    "    line=dict(color='cyan')  # Adjust color as needed\n",
    ")\n",
    "trace2 = go.Scatter(\n",
    "    y=denoised_output,\n",
    "    mode='lines',\n",
    "    name='Denoised Output',\n",
    "    line=dict(color='green')  # Adjust color as needed\n",
    ")\n",
    "trace3 = go.Scatter(\n",
    "    y=true_clean_output,\n",
    "    mode='lines',\n",
    "    name='True Clean Output',\n",
    "    line=dict(color='orange')  # Adjust color as needed\n",
    ")\n",
    "\n",
    "# Add traces to the figure\n",
    "fig = go.Figure(data=[trace1, trace2, trace3])\n",
    "\n",
    "# Update layout to add title and labels\n",
    "fig.update_layout(\n",
    "    title='Comparison of Noisy, Denoised, and True Outputs',\n",
    "    xaxis_title='Wavenumber Shift Index',\n",
    "    yaxis_title='Intensity'\n",
    ")\n",
    "\n",
    "# Show the figure\n",
    "fig.show()\n"
   ]
  },
  {
   "cell_type": "code",
   "execution_count": 15,
   "metadata": {},
   "outputs": [],
   "source": [
    "dae.save('dae_model.h5')"
   ]
  },
  {
   "cell_type": "markdown",
   "metadata": {},
   "source": [
    "#### Metrics for Evaluation"
   ]
  },
  {
   "cell_type": "code",
   "execution_count": 16,
   "metadata": {},
   "outputs": [
    {
     "name": "stdout",
     "output_type": "stream",
     "text": [
      "Mean Squared Error (MSE): 7.898034530722575e-06\n"
     ]
    }
   ],
   "source": [
    "# Mean Squared Error (MSE)\n",
    "from sklearn.metrics import mean_squared_error\n",
    "\n",
    "# Calculate MSE for each sample and then the average\n",
    "mse = mean_squared_error(y_test, predicted_output)\n",
    "print(f\"Mean Squared Error (MSE): {mse}\")"
   ]
  },
  {
   "cell_type": "code",
   "execution_count": 23,
   "metadata": {},
   "outputs": [
    {
     "name": "stdout",
     "output_type": "stream",
     "text": [
      "Root Mean Squared Error (RMSE): 0.0028103442014676024\n"
     ]
    }
   ],
   "source": [
    "# Root Mean Squared Error (RMSE)\n",
    "import numpy as np\n",
    "rmse = np.sqrt(mse)\n",
    "print(f\"Root Mean Squared Error (RMSE): {rmse}\")"
   ]
  },
  {
   "cell_type": "code",
   "execution_count": 24,
   "metadata": {},
   "outputs": [
    {
     "name": "stdout",
     "output_type": "stream",
     "text": [
      "Mean Absolute Error (MAE): 0.0021861330413020202\n"
     ]
    }
   ],
   "source": [
    "# Mean Absolute Error (MAE)\n",
    "from sklearn.metrics import mean_absolute_error\n",
    "\n",
    "# Calculate MAE\n",
    "mae = mean_absolute_error(y_test, predicted_output)\n",
    "print(f\"Mean Absolute Error (MAE): {mae}\")"
   ]
  },
  {
   "cell_type": "code",
   "execution_count": 32,
   "metadata": {},
   "outputs": [
    {
     "name": "stdout",
     "output_type": "stream",
     "text": [
      "Mean Signal-to-Noise Ratio (SNR) for DAE Model: 25.88 dB\n"
     ]
    }
   ],
   "source": [
    "# Calculate SNR for each sample individually and then average\n",
    "snr_values = [10 * np.log10(np.sum(y_test[i] ** 2) / np.sum((y_test[i] - predicted_output[i]) ** 2)) for i in range(len(y_test))]\n",
    "mean_snr_dae = np.mean(snr_values)\n",
    "\n",
    "# Print the mean SNR\n",
    "print(f\"Mean Signal-to-Noise Ratio (SNR) for DAE Model: {mean_snr_dae:.2f} dB\")"
   ]
  },
  {
   "cell_type": "code",
   "execution_count": 26,
   "metadata": {},
   "outputs": [
    {
     "name": "stdout",
     "output_type": "stream",
     "text": [
      "Mean PSNR: 26.592247040661636 dB\n"
     ]
    }
   ],
   "source": [
    "# Peak Signal-to-Noise Ratio (PSNR)\n",
    "\n",
    "# Define a function to calculate PSNR\n",
    "def calculate_psnr(y_true, y_pred):\n",
    "    max_val = np.max(y_true)  # Peak intensity in the clean spectra\n",
    "    mse = np.mean((y_true - y_pred) ** 2)\n",
    "    psnr = 10 * np.log10((max_val ** 2) / mse)\n",
    "    return psnr\n",
    "\n",
    "# Calculate PSNR for each test sample and take the mean\n",
    "psnr_values = [calculate_psnr(y_test[i], predicted_output[i]) for i in range(len(y_test))]\n",
    "mean_psnr = np.mean(psnr_values)\n",
    "print(f\"Mean PSNR: {mean_psnr} dB\")\n"
   ]
  },
  {
   "cell_type": "code",
   "execution_count": 27,
   "metadata": {},
   "outputs": [
    {
     "name": "stdout",
     "output_type": "stream",
     "text": [
      "Mean SSIM: 0.996179331957553\n"
     ]
    },
    {
     "name": "stderr",
     "output_type": "stream",
     "text": [
      "c:\\Users\\91892\\anaconda3\\lib\\site-packages\\skimage\\_shared\\utils.py:348: UserWarning:\n",
      "\n",
      "Inputs have mismatched dtype.  Setting data_range based on im1.dtype.\n",
      "\n"
     ]
    }
   ],
   "source": [
    "# Structural Similarity Index (SSI)\n",
    "\n",
    "from skimage.metrics import structural_similarity as ssim\n",
    "\n",
    "# Calculate SSIM for each test sample and take the mean\n",
    "ssim_values = [ssim(y_test[i], predicted_output[i]) for i in range(len(y_test))]\n",
    "mean_ssim = np.mean(ssim_values)\n",
    "print(f\"Mean SSIM: {mean_ssim}\")"
   ]
  },
  {
   "cell_type": "code",
   "execution_count": 33,
   "metadata": {},
   "outputs": [
    {
     "name": "stdout",
     "output_type": "stream",
     "text": [
      "Mean Squared Error (MSE): 7.898034530722575e-06\n",
      "Root Mean Squared Error (RMSE): 0.0028103442014676024\n",
      "Mean Absolute Error (MAE): 0.0021861330413020202\n",
      "Mean Signal-to-Noise Ratio (SNR) for DAE Model: 25.88 dB\n",
      "Mean Peak Signal to Noise Ratio (PSNR): 26.592247040661636 dB\n",
      "Mean Structural Similarity Index (SSIM): 0.996179331957553\n"
     ]
    }
   ],
   "source": [
    "print(f\"Mean Squared Error (MSE): {mse}\")\n",
    "print(f\"Root Mean Squared Error (RMSE): {rmse}\")\n",
    "print(f\"Mean Absolute Error (MAE): {mae}\")\n",
    "print(f\"Mean Signal-to-Noise Ratio (SNR) for DAE Model: {mean_snr_dae:.2f} dB\")\n",
    "print(f\"Mean Peak Signal to Noise Ratio (PSNR): {mean_psnr} dB\")\n",
    "print(f\"Mean Structural Similarity Index (SSIM): {mean_ssim}\")"
   ]
  },
  {
   "cell_type": "markdown",
   "metadata": {},
   "source": [
    "#### Note: On comparison, this is selected as the final model to deploy"
   ]
  }
 ],
 "metadata": {
  "kernelspec": {
   "display_name": "base",
   "language": "python",
   "name": "python3"
  },
  "language_info": {
   "codemirror_mode": {
    "name": "ipython",
    "version": 3
   },
   "file_extension": ".py",
   "mimetype": "text/x-python",
   "name": "python",
   "nbconvert_exporter": "python",
   "pygments_lexer": "ipython3",
   "version": "3.9.12"
  }
 },
 "nbformat": 4,
 "nbformat_minor": 2
}
